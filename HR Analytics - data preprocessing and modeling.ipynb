{
 "cells": [
  {
   "cell_type": "code",
   "execution_count": null,
   "metadata": {},
   "outputs": [],
   "source": [
    "# https://www.kaggle.com/arashnic/hr-analytics-job-change-of-data-scientists\n",
    "\n",
    "# target: 0 – Not looking for job change, 1 – Looking for a job change(good for us)"
   ]
  },
  {
   "cell_type": "markdown",
   "metadata": {
    "heading_collapsed": true
   },
   "source": [
    "## Importing and exploring data"
   ]
  },
  {
   "cell_type": "code",
   "execution_count": 16,
   "metadata": {
    "hidden": true
   },
   "outputs": [
    {
     "name": "stderr",
     "output_type": "stream",
     "text": [
      "C:\\Users\\Kasia\\anaconda3\\lib\\site-packages\\sklearn\\utils\\deprecation.py:143: FutureWarning: The sklearn.metrics.scorer module is  deprecated in version 0.22 and will be removed in version 0.24. The corresponding classes / functions should instead be imported from sklearn.metrics. Anything that cannot be imported from sklearn.metrics is now part of the private API.\n",
      "  warnings.warn(message, FutureWarning)\n",
      "C:\\Users\\Kasia\\anaconda3\\lib\\site-packages\\sklearn\\utils\\deprecation.py:143: FutureWarning: The sklearn.feature_selection.base module is  deprecated in version 0.22 and will be removed in version 0.24. The corresponding classes / functions should instead be imported from sklearn.feature_selection. Anything that cannot be imported from sklearn.feature_selection is now part of the private API.\n",
      "  warnings.warn(message, FutureWarning)\n"
     ]
    }
   ],
   "source": [
    "import pandas as pd\n",
    "import numpy as np\n",
    "pd.set_option('max_columns', 50)\n",
    "\n",
    "#visualizations\n",
    "%matplotlib inline\n",
    "import matplotlib.pyplot as plt\n",
    "import seaborn as sns\n",
    "sns.set()\n",
    "\n",
    "#preprocessing\n",
    "from sklearn.model_selection import train_test_split\n",
    "from sklearn.preprocessing import StandardScaler\n",
    "from sklearn.decomposition import PCA\n",
    "\n",
    "#feature selection:\n",
    "from sklearn.feature_selection import SelectKBest\n",
    "from sklearn.feature_selection import chi2\n",
    "from sklearn.feature_selection import RFE\n",
    "\n",
    "#classification models\n",
    "from sklearn.linear_model import LogisticRegression\n",
    "from sklearn.neighbors import KNeighborsClassifier\n",
    "from sklearn.naive_bayes import GaussianNB\n",
    "from sklearn.tree import DecisionTreeClassifier\n",
    "from sklearn.ensemble import RandomForestClassifier\n",
    "from sklearn.svm import SVC\n",
    "from sklearn.ensemble import AdaBoostClassifier\n",
    "from xgboost import XGBClassifier\n",
    "from catboost import CatBoostClassifier\n",
    "from sklearn.svm import NuSVC\n",
    "\n",
    "from sklearn.metrics import confusion_matrix, accuracy_score, recall_score, precision_score, f1_score\n",
    "\n",
    "#clustering models\n",
    "from sklearn.cluster import KMeans\n",
    "\n",
    "#hyper parameters:\n",
    "from sklearn.model_selection import GridSearchCV\n",
    "from scipy.stats import uniform\n",
    "from sklearn.linear_model import Ridge\n",
    "\n",
    "#feature importance:\n",
    "import eli5\n",
    "from eli5.sklearn import PermutationImportance\n",
    "\n",
    "from sklearn.metrics import auc, roc_auc_score, roc_curve"
   ]
  },
  {
   "cell_type": "code",
   "execution_count": 1,
   "metadata": {
    "hidden": true
   },
   "outputs": [
    {
     "data": {
      "text/html": [
       "<div>\n",
       "<style scoped>\n",
       "    .dataframe tbody tr th:only-of-type {\n",
       "        vertical-align: middle;\n",
       "    }\n",
       "\n",
       "    .dataframe tbody tr th {\n",
       "        vertical-align: top;\n",
       "    }\n",
       "\n",
       "    .dataframe thead th {\n",
       "        text-align: right;\n",
       "    }\n",
       "</style>\n",
       "<table border=\"1\" class=\"dataframe\">\n",
       "  <thead>\n",
       "    <tr style=\"text-align: right;\">\n",
       "      <th></th>\n",
       "      <th>enrollee_id</th>\n",
       "      <th>city</th>\n",
       "      <th>city_development_index</th>\n",
       "      <th>gender</th>\n",
       "      <th>relevent_experience</th>\n",
       "      <th>enrolled_university</th>\n",
       "      <th>education_level</th>\n",
       "      <th>major_discipline</th>\n",
       "      <th>experience</th>\n",
       "      <th>company_size</th>\n",
       "      <th>company_type</th>\n",
       "      <th>last_new_job</th>\n",
       "      <th>training_hours</th>\n",
       "      <th>target</th>\n",
       "    </tr>\n",
       "  </thead>\n",
       "  <tbody>\n",
       "    <tr>\n",
       "      <th>0</th>\n",
       "      <td>8949</td>\n",
       "      <td>city_103</td>\n",
       "      <td>0.920</td>\n",
       "      <td>Male</td>\n",
       "      <td>Has relevent experience</td>\n",
       "      <td>no_enrollment</td>\n",
       "      <td>Graduate</td>\n",
       "      <td>STEM</td>\n",
       "      <td>&gt;20</td>\n",
       "      <td>NaN</td>\n",
       "      <td>NaN</td>\n",
       "      <td>1</td>\n",
       "      <td>36</td>\n",
       "      <td>1.0</td>\n",
       "    </tr>\n",
       "    <tr>\n",
       "      <th>1</th>\n",
       "      <td>29725</td>\n",
       "      <td>city_40</td>\n",
       "      <td>0.776</td>\n",
       "      <td>Male</td>\n",
       "      <td>No relevent experience</td>\n",
       "      <td>no_enrollment</td>\n",
       "      <td>Graduate</td>\n",
       "      <td>STEM</td>\n",
       "      <td>15</td>\n",
       "      <td>50-99</td>\n",
       "      <td>Pvt Ltd</td>\n",
       "      <td>&gt;4</td>\n",
       "      <td>47</td>\n",
       "      <td>0.0</td>\n",
       "    </tr>\n",
       "    <tr>\n",
       "      <th>2</th>\n",
       "      <td>11561</td>\n",
       "      <td>city_21</td>\n",
       "      <td>0.624</td>\n",
       "      <td>NaN</td>\n",
       "      <td>No relevent experience</td>\n",
       "      <td>Full time course</td>\n",
       "      <td>Graduate</td>\n",
       "      <td>STEM</td>\n",
       "      <td>5</td>\n",
       "      <td>NaN</td>\n",
       "      <td>NaN</td>\n",
       "      <td>never</td>\n",
       "      <td>83</td>\n",
       "      <td>0.0</td>\n",
       "    </tr>\n",
       "    <tr>\n",
       "      <th>3</th>\n",
       "      <td>33241</td>\n",
       "      <td>city_115</td>\n",
       "      <td>0.789</td>\n",
       "      <td>NaN</td>\n",
       "      <td>No relevent experience</td>\n",
       "      <td>NaN</td>\n",
       "      <td>Graduate</td>\n",
       "      <td>Business Degree</td>\n",
       "      <td>&lt;1</td>\n",
       "      <td>NaN</td>\n",
       "      <td>Pvt Ltd</td>\n",
       "      <td>never</td>\n",
       "      <td>52</td>\n",
       "      <td>1.0</td>\n",
       "    </tr>\n",
       "    <tr>\n",
       "      <th>4</th>\n",
       "      <td>666</td>\n",
       "      <td>city_162</td>\n",
       "      <td>0.767</td>\n",
       "      <td>Male</td>\n",
       "      <td>Has relevent experience</td>\n",
       "      <td>no_enrollment</td>\n",
       "      <td>Masters</td>\n",
       "      <td>STEM</td>\n",
       "      <td>&gt;20</td>\n",
       "      <td>50-99</td>\n",
       "      <td>Funded Startup</td>\n",
       "      <td>4</td>\n",
       "      <td>8</td>\n",
       "      <td>0.0</td>\n",
       "    </tr>\n",
       "  </tbody>\n",
       "</table>\n",
       "</div>"
      ],
      "text/plain": [
       "   enrollee_id      city  city_development_index gender  \\\n",
       "0         8949  city_103                   0.920   Male   \n",
       "1        29725   city_40                   0.776   Male   \n",
       "2        11561   city_21                   0.624    NaN   \n",
       "3        33241  city_115                   0.789    NaN   \n",
       "4          666  city_162                   0.767   Male   \n",
       "\n",
       "       relevent_experience enrolled_university education_level  \\\n",
       "0  Has relevent experience       no_enrollment        Graduate   \n",
       "1   No relevent experience       no_enrollment        Graduate   \n",
       "2   No relevent experience    Full time course        Graduate   \n",
       "3   No relevent experience                 NaN        Graduate   \n",
       "4  Has relevent experience       no_enrollment         Masters   \n",
       "\n",
       "  major_discipline experience company_size    company_type last_new_job  \\\n",
       "0             STEM        >20          NaN             NaN            1   \n",
       "1             STEM         15        50-99         Pvt Ltd           >4   \n",
       "2             STEM          5          NaN             NaN        never   \n",
       "3  Business Degree         <1          NaN         Pvt Ltd        never   \n",
       "4             STEM        >20        50-99  Funded Startup            4   \n",
       "\n",
       "   training_hours  target  \n",
       "0              36     1.0  \n",
       "1              47     0.0  \n",
       "2              83     0.0  \n",
       "3              52     1.0  \n",
       "4               8     0.0  "
      ]
     },
     "execution_count": 1,
     "metadata": {},
     "output_type": "execute_result"
    }
   ],
   "source": [
    "import pandas as pd\n",
    "import numpy as np\n",
    "pd.set_option('max_columns', 50)\n",
    "\n",
    "data = pd.read_csv('aug_train.csv')\n",
    "df = data.copy()\n",
    "df.head()"
   ]
  },
  {
   "cell_type": "code",
   "execution_count": 2,
   "metadata": {
    "hidden": true
   },
   "outputs": [
    {
     "data": {
      "text/html": [
       "<div>\n",
       "<style scoped>\n",
       "    .dataframe tbody tr th:only-of-type {\n",
       "        vertical-align: middle;\n",
       "    }\n",
       "\n",
       "    .dataframe tbody tr th {\n",
       "        vertical-align: top;\n",
       "    }\n",
       "\n",
       "    .dataframe thead th {\n",
       "        text-align: right;\n",
       "    }\n",
       "</style>\n",
       "<table border=\"1\" class=\"dataframe\">\n",
       "  <thead>\n",
       "    <tr style=\"text-align: right;\">\n",
       "      <th></th>\n",
       "      <th>enrollee_id</th>\n",
       "      <th>city</th>\n",
       "      <th>city_development_index</th>\n",
       "      <th>gender</th>\n",
       "      <th>relevent_experience</th>\n",
       "      <th>enrolled_university</th>\n",
       "      <th>education_level</th>\n",
       "      <th>major_discipline</th>\n",
       "      <th>experience</th>\n",
       "      <th>company_size</th>\n",
       "      <th>company_type</th>\n",
       "      <th>last_new_job</th>\n",
       "      <th>training_hours</th>\n",
       "      <th>target</th>\n",
       "    </tr>\n",
       "  </thead>\n",
       "  <tbody>\n",
       "  </tbody>\n",
       "</table>\n",
       "</div>"
      ],
      "text/plain": [
       "Empty DataFrame\n",
       "Columns: [enrollee_id, city, city_development_index, gender, relevent_experience, enrolled_university, education_level, major_discipline, experience, company_size, company_type, last_new_job, training_hours, target]\n",
       "Index: []"
      ]
     },
     "execution_count": 2,
     "metadata": {},
     "output_type": "execute_result"
    }
   ],
   "source": [
    "# checking for duplicates\n",
    "df[df.duplicated()]"
   ]
  },
  {
   "cell_type": "code",
   "execution_count": 72,
   "metadata": {
    "hidden": true
   },
   "outputs": [
    {
     "data": {
      "text/plain": [
       "(19158, 14)"
      ]
     },
     "execution_count": 72,
     "metadata": {},
     "output_type": "execute_result"
    }
   ],
   "source": [
    "df.shape"
   ]
  },
  {
   "cell_type": "code",
   "execution_count": 73,
   "metadata": {
    "hidden": true
   },
   "outputs": [
    {
     "name": "stdout",
     "output_type": "stream",
     "text": [
      "<class 'pandas.core.frame.DataFrame'>\n",
      "RangeIndex: 19158 entries, 0 to 19157\n",
      "Data columns (total 14 columns):\n",
      " #   Column                  Non-Null Count  Dtype  \n",
      "---  ------                  --------------  -----  \n",
      " 0   enrollee_id             19158 non-null  int64  \n",
      " 1   city                    19158 non-null  object \n",
      " 2   city_development_index  19158 non-null  float64\n",
      " 3   gender                  14650 non-null  object \n",
      " 4   relevent_experience     19158 non-null  object \n",
      " 5   enrolled_university     18772 non-null  object \n",
      " 6   education_level         18698 non-null  object \n",
      " 7   major_discipline        16345 non-null  object \n",
      " 8   experience              19093 non-null  object \n",
      " 9   company_size            13220 non-null  object \n",
      " 10  company_type            13018 non-null  object \n",
      " 11  last_new_job            18735 non-null  object \n",
      " 12  training_hours          19158 non-null  int64  \n",
      " 13  target                  19158 non-null  float64\n",
      "dtypes: float64(2), int64(2), object(10)\n",
      "memory usage: 2.0+ MB\n"
     ]
    }
   ],
   "source": [
    "df.info()"
   ]
  },
  {
   "cell_type": "code",
   "execution_count": 3,
   "metadata": {
    "hidden": true
   },
   "outputs": [],
   "source": [
    "# dropping candidate id as it has no value for us\n",
    "df = df.drop(columns=['enrollee_id'])"
   ]
  },
  {
   "cell_type": "markdown",
   "metadata": {
    "heading_collapsed": true
   },
   "source": [
    "## Preprocessing"
   ]
  },
  {
   "cell_type": "markdown",
   "metadata": {
    "heading_collapsed": true,
    "hidden": true
   },
   "source": [
    "### Handling missing values"
   ]
  },
  {
   "cell_type": "code",
   "execution_count": 4,
   "metadata": {
    "hidden": true
   },
   "outputs": [
    {
     "data": {
      "text/html": [
       "<div>\n",
       "<style scoped>\n",
       "    .dataframe tbody tr th:only-of-type {\n",
       "        vertical-align: middle;\n",
       "    }\n",
       "\n",
       "    .dataframe tbody tr th {\n",
       "        vertical-align: top;\n",
       "    }\n",
       "\n",
       "    .dataframe thead th {\n",
       "        text-align: right;\n",
       "    }\n",
       "</style>\n",
       "<table border=\"1\" class=\"dataframe\">\n",
       "  <thead>\n",
       "    <tr style=\"text-align: right;\">\n",
       "      <th></th>\n",
       "      <th>nb_of_nan</th>\n",
       "      <th>percentage</th>\n",
       "    </tr>\n",
       "  </thead>\n",
       "  <tbody>\n",
       "    <tr>\n",
       "      <th>city</th>\n",
       "      <td>0</td>\n",
       "      <td>0.000000</td>\n",
       "    </tr>\n",
       "    <tr>\n",
       "      <th>city_development_index</th>\n",
       "      <td>0</td>\n",
       "      <td>0.000000</td>\n",
       "    </tr>\n",
       "    <tr>\n",
       "      <th>relevent_experience</th>\n",
       "      <td>0</td>\n",
       "      <td>0.000000</td>\n",
       "    </tr>\n",
       "    <tr>\n",
       "      <th>training_hours</th>\n",
       "      <td>0</td>\n",
       "      <td>0.000000</td>\n",
       "    </tr>\n",
       "    <tr>\n",
       "      <th>target</th>\n",
       "      <td>0</td>\n",
       "      <td>0.000000</td>\n",
       "    </tr>\n",
       "    <tr>\n",
       "      <th>experience</th>\n",
       "      <td>65</td>\n",
       "      <td>0.003393</td>\n",
       "    </tr>\n",
       "    <tr>\n",
       "      <th>enrolled_university</th>\n",
       "      <td>386</td>\n",
       "      <td>0.020148</td>\n",
       "    </tr>\n",
       "    <tr>\n",
       "      <th>last_new_job</th>\n",
       "      <td>423</td>\n",
       "      <td>0.022080</td>\n",
       "    </tr>\n",
       "    <tr>\n",
       "      <th>education_level</th>\n",
       "      <td>460</td>\n",
       "      <td>0.024011</td>\n",
       "    </tr>\n",
       "    <tr>\n",
       "      <th>major_discipline</th>\n",
       "      <td>2813</td>\n",
       "      <td>0.146832</td>\n",
       "    </tr>\n",
       "    <tr>\n",
       "      <th>gender</th>\n",
       "      <td>4508</td>\n",
       "      <td>0.235306</td>\n",
       "    </tr>\n",
       "    <tr>\n",
       "      <th>company_size</th>\n",
       "      <td>5938</td>\n",
       "      <td>0.309949</td>\n",
       "    </tr>\n",
       "    <tr>\n",
       "      <th>company_type</th>\n",
       "      <td>6140</td>\n",
       "      <td>0.320493</td>\n",
       "    </tr>\n",
       "  </tbody>\n",
       "</table>\n",
       "</div>"
      ],
      "text/plain": [
       "                        nb_of_nan  percentage\n",
       "city                            0    0.000000\n",
       "city_development_index          0    0.000000\n",
       "relevent_experience             0    0.000000\n",
       "training_hours                  0    0.000000\n",
       "target                          0    0.000000\n",
       "experience                     65    0.003393\n",
       "enrolled_university           386    0.020148\n",
       "last_new_job                  423    0.022080\n",
       "education_level               460    0.024011\n",
       "major_discipline             2813    0.146832\n",
       "gender                       4508    0.235306\n",
       "company_size                 5938    0.309949\n",
       "company_type                 6140    0.320493"
      ]
     },
     "execution_count": 4,
     "metadata": {},
     "output_type": "execute_result"
    }
   ],
   "source": [
    "# checking data for missing values:\n",
    "\n",
    "nb_of_nan = df.isnull().sum().sort_values()\n",
    "percentage = df.isnull().sum()/df.isnull().count().sort_values()\n",
    "missing_data = pd.concat([nb_of_nan, percentage], axis=1, keys =[\"nb_of_nan\", 'percentage'])\n",
    "missing_data"
   ]
  },
  {
   "cell_type": "code",
   "execution_count": 5,
   "metadata": {
    "hidden": true
   },
   "outputs": [
    {
     "data": {
      "text/plain": [
       "city                      0\n",
       "city_development_index    0\n",
       "gender                    0\n",
       "relevent_experience       0\n",
       "enrolled_university       0\n",
       "education_level           0\n",
       "major_discipline          0\n",
       "experience                0\n",
       "company_size              0\n",
       "company_type              0\n",
       "last_new_job              0\n",
       "training_hours            0\n",
       "target                    0\n",
       "dtype: int64"
      ]
     },
     "execution_count": 5,
     "metadata": {},
     "output_type": "execute_result"
    }
   ],
   "source": [
    "# replacing nans with mode\n",
    "\n",
    "for feature in missing_data.index:\n",
    "    df[feature] = df[feature].fillna(df[feature].mode()[0])\n",
    "    \n",
    "df.isnull().sum()"
   ]
  },
  {
   "cell_type": "markdown",
   "metadata": {
    "hidden": true
   },
   "source": [
    "### Encoding categorical values"
   ]
  },
  {
   "cell_type": "code",
   "execution_count": 6,
   "metadata": {
    "hidden": true
   },
   "outputs": [
    {
     "data": {
      "text/plain": [
       "123"
      ]
     },
     "execution_count": 6,
     "metadata": {},
     "output_type": "execute_result"
    }
   ],
   "source": [
    "# checking value counts of all categorical columns to see how to process them\n",
    "\n",
    "len(df.city.value_counts())"
   ]
  },
  {
   "cell_type": "code",
   "execution_count": 7,
   "metadata": {
    "hidden": true
   },
   "outputs": [],
   "source": [
    "# city column has too many columns to encode them, I will drop this column. The rest of columns seems fine.\n",
    "\n",
    "df = df.drop(columns=['city'])"
   ]
  },
  {
   "cell_type": "code",
   "execution_count": 8,
   "metadata": {
    "hidden": true,
    "scrolled": true
   },
   "outputs": [],
   "source": [
    "# Columns to clean from text: experience, company_size, last_new_job\n",
    "\n",
    "#df.experience.value_counts()\n",
    "df.experience = df.experience.str.replace('>20','21')\n",
    "df.experience = df.experience.str.replace('<1','0')\n",
    "\n",
    "df.experience = df.experience.astype('int64')"
   ]
  },
  {
   "cell_type": "code",
   "execution_count": 9,
   "metadata": {
    "hidden": true
   },
   "outputs": [
    {
     "data": {
      "text/plain": [
       "3    9021\n",
       "4    2571\n",
       "8    2019\n",
       "2    1471\n",
       "6    1328\n",
       "1    1308\n",
       "5     877\n",
       "7     563\n",
       "Name: company_size, dtype: int64"
      ]
     },
     "execution_count": 9,
     "metadata": {},
     "output_type": "execute_result"
    }
   ],
   "source": [
    "#df.company_size.value_counts()\n",
    "\n",
    "# I will encode company_size manually as it has ordinal valueas and I'm not sure how Label_Encoder we treat these strings (might not read the order the way I want it to)\n",
    "df.company_size = df.company_size.str.replace('<10', '1')\n",
    "df.company_size = df.company_size.str.replace('10/49', '2')\n",
    "df.company_size = df.company_size.str.replace('50-99', '3')\n",
    "df.company_size = df.company_size.str.replace('100-500', '4')\n",
    "df.company_size = df.company_size.str.replace('500-999', '5')\n",
    "df.company_size = df.company_size.str.replace('1000-4999', '6')\n",
    "df.company_size = df.company_size.str.replace('5000-9999', '7')\n",
    "df.company_size = df.company_size.str.replace('10000+', '8')\n",
    "df.company_size = df.company_size.str.strip('+') #why it kept this '+' after replacing, idk\n",
    "\n",
    "df.company_size = df.company_size.astype('int64')\n",
    "df.company_size.value_counts()"
   ]
  },
  {
   "cell_type": "code",
   "execution_count": 10,
   "metadata": {
    "hidden": true
   },
   "outputs": [
    {
     "data": {
      "text/plain": [
       "1        8040\n",
       ">4       3290\n",
       "2        2900\n",
       "never    2452\n",
       "4        1029\n",
       "3        1024\n",
       "Name: last_new_job, dtype: int64"
      ]
     },
     "execution_count": 10,
     "metadata": {},
     "output_type": "execute_result"
    }
   ],
   "source": [
    "#data.last_new_job.value_counts()\n",
    "\n",
    "df.last_new_job = df.last_new_job.astype('str')\n",
    "df.last_new_job = df.last_new_job.str.replace('>4', '5')\n",
    "df.last_new_job = df.last_new_job.str.replace('never', '6')\n",
    "\n",
    "df.last_new_job = df.last_new_job.astype('int64')\n",
    "data.last_new_job.value_counts()"
   ]
  },
  {
   "cell_type": "code",
   "execution_count": 11,
   "metadata": {
    "hidden": true
   },
   "outputs": [
    {
     "data": {
      "text/plain": [
       "array([1, 5, 6, 4, 3, 2], dtype=int64)"
      ]
     },
     "execution_count": 11,
     "metadata": {},
     "output_type": "execute_result"
    }
   ],
   "source": [
    "# I dont know why value_counts still shows old values, however unique seems to work as expected:\n",
    "df[\"last_new_job\"].unique()"
   ]
  },
  {
   "cell_type": "code",
   "execution_count": null,
   "metadata": {
    "hidden": true
   },
   "outputs": [],
   "source": []
  },
  {
   "cell_type": "code",
   "execution_count": 12,
   "metadata": {
    "hidden": true
   },
   "outputs": [
    {
     "data": {
      "text/html": [
       "<div>\n",
       "<style scoped>\n",
       "    .dataframe tbody tr th:only-of-type {\n",
       "        vertical-align: middle;\n",
       "    }\n",
       "\n",
       "    .dataframe tbody tr th {\n",
       "        vertical-align: top;\n",
       "    }\n",
       "\n",
       "    .dataframe thead th {\n",
       "        text-align: right;\n",
       "    }\n",
       "</style>\n",
       "<table border=\"1\" class=\"dataframe\">\n",
       "  <thead>\n",
       "    <tr style=\"text-align: right;\">\n",
       "      <th></th>\n",
       "      <th>city_development_index</th>\n",
       "      <th>enrolled_university</th>\n",
       "      <th>education_level</th>\n",
       "      <th>experience</th>\n",
       "      <th>company_size</th>\n",
       "      <th>last_new_job</th>\n",
       "      <th>training_hours</th>\n",
       "      <th>target</th>\n",
       "      <th>gender_Male</th>\n",
       "      <th>gender_Other</th>\n",
       "      <th>relevent_experience_No relevent experience</th>\n",
       "      <th>major_discipline_Business Degree</th>\n",
       "      <th>major_discipline_Humanities</th>\n",
       "      <th>major_discipline_No Major</th>\n",
       "      <th>major_discipline_Other</th>\n",
       "      <th>major_discipline_STEM</th>\n",
       "      <th>company_type_Funded Startup</th>\n",
       "      <th>company_type_NGO</th>\n",
       "      <th>company_type_Other</th>\n",
       "      <th>company_type_Public Sector</th>\n",
       "      <th>company_type_Pvt Ltd</th>\n",
       "    </tr>\n",
       "  </thead>\n",
       "  <tbody>\n",
       "    <tr>\n",
       "      <th>0</th>\n",
       "      <td>0.920</td>\n",
       "      <td>2</td>\n",
       "      <td>0</td>\n",
       "      <td>21</td>\n",
       "      <td>3</td>\n",
       "      <td>1</td>\n",
       "      <td>36</td>\n",
       "      <td>1.0</td>\n",
       "      <td>1</td>\n",
       "      <td>0</td>\n",
       "      <td>0</td>\n",
       "      <td>0</td>\n",
       "      <td>0</td>\n",
       "      <td>0</td>\n",
       "      <td>0</td>\n",
       "      <td>1</td>\n",
       "      <td>0</td>\n",
       "      <td>0</td>\n",
       "      <td>0</td>\n",
       "      <td>0</td>\n",
       "      <td>1</td>\n",
       "    </tr>\n",
       "    <tr>\n",
       "      <th>1</th>\n",
       "      <td>0.776</td>\n",
       "      <td>2</td>\n",
       "      <td>0</td>\n",
       "      <td>15</td>\n",
       "      <td>3</td>\n",
       "      <td>5</td>\n",
       "      <td>47</td>\n",
       "      <td>0.0</td>\n",
       "      <td>1</td>\n",
       "      <td>0</td>\n",
       "      <td>1</td>\n",
       "      <td>0</td>\n",
       "      <td>0</td>\n",
       "      <td>0</td>\n",
       "      <td>0</td>\n",
       "      <td>1</td>\n",
       "      <td>0</td>\n",
       "      <td>0</td>\n",
       "      <td>0</td>\n",
       "      <td>0</td>\n",
       "      <td>1</td>\n",
       "    </tr>\n",
       "    <tr>\n",
       "      <th>2</th>\n",
       "      <td>0.624</td>\n",
       "      <td>0</td>\n",
       "      <td>0</td>\n",
       "      <td>5</td>\n",
       "      <td>3</td>\n",
       "      <td>6</td>\n",
       "      <td>83</td>\n",
       "      <td>0.0</td>\n",
       "      <td>1</td>\n",
       "      <td>0</td>\n",
       "      <td>1</td>\n",
       "      <td>0</td>\n",
       "      <td>0</td>\n",
       "      <td>0</td>\n",
       "      <td>0</td>\n",
       "      <td>1</td>\n",
       "      <td>0</td>\n",
       "      <td>0</td>\n",
       "      <td>0</td>\n",
       "      <td>0</td>\n",
       "      <td>1</td>\n",
       "    </tr>\n",
       "    <tr>\n",
       "      <th>3</th>\n",
       "      <td>0.789</td>\n",
       "      <td>2</td>\n",
       "      <td>0</td>\n",
       "      <td>0</td>\n",
       "      <td>3</td>\n",
       "      <td>6</td>\n",
       "      <td>52</td>\n",
       "      <td>1.0</td>\n",
       "      <td>1</td>\n",
       "      <td>0</td>\n",
       "      <td>1</td>\n",
       "      <td>1</td>\n",
       "      <td>0</td>\n",
       "      <td>0</td>\n",
       "      <td>0</td>\n",
       "      <td>0</td>\n",
       "      <td>0</td>\n",
       "      <td>0</td>\n",
       "      <td>0</td>\n",
       "      <td>0</td>\n",
       "      <td>1</td>\n",
       "    </tr>\n",
       "    <tr>\n",
       "      <th>4</th>\n",
       "      <td>0.767</td>\n",
       "      <td>2</td>\n",
       "      <td>2</td>\n",
       "      <td>21</td>\n",
       "      <td>3</td>\n",
       "      <td>4</td>\n",
       "      <td>8</td>\n",
       "      <td>0.0</td>\n",
       "      <td>1</td>\n",
       "      <td>0</td>\n",
       "      <td>0</td>\n",
       "      <td>0</td>\n",
       "      <td>0</td>\n",
       "      <td>0</td>\n",
       "      <td>0</td>\n",
       "      <td>1</td>\n",
       "      <td>1</td>\n",
       "      <td>0</td>\n",
       "      <td>0</td>\n",
       "      <td>0</td>\n",
       "      <td>0</td>\n",
       "    </tr>\n",
       "  </tbody>\n",
       "</table>\n",
       "</div>"
      ],
      "text/plain": [
       "   city_development_index  enrolled_university  education_level  experience  \\\n",
       "0                   0.920                    2                0          21   \n",
       "1                   0.776                    2                0          15   \n",
       "2                   0.624                    0                0           5   \n",
       "3                   0.789                    2                0           0   \n",
       "4                   0.767                    2                2          21   \n",
       "\n",
       "   company_size  last_new_job  training_hours  target  gender_Male  \\\n",
       "0             3             1              36     1.0            1   \n",
       "1             3             5              47     0.0            1   \n",
       "2             3             6              83     0.0            1   \n",
       "3             3             6              52     1.0            1   \n",
       "4             3             4               8     0.0            1   \n",
       "\n",
       "   gender_Other  relevent_experience_No relevent experience  \\\n",
       "0             0                                           0   \n",
       "1             0                                           1   \n",
       "2             0                                           1   \n",
       "3             0                                           1   \n",
       "4             0                                           0   \n",
       "\n",
       "   major_discipline_Business Degree  major_discipline_Humanities  \\\n",
       "0                                 0                            0   \n",
       "1                                 0                            0   \n",
       "2                                 0                            0   \n",
       "3                                 1                            0   \n",
       "4                                 0                            0   \n",
       "\n",
       "   major_discipline_No Major  major_discipline_Other  major_discipline_STEM  \\\n",
       "0                          0                       0                      1   \n",
       "1                          0                       0                      1   \n",
       "2                          0                       0                      1   \n",
       "3                          0                       0                      0   \n",
       "4                          0                       0                      1   \n",
       "\n",
       "   company_type_Funded Startup  company_type_NGO  company_type_Other  \\\n",
       "0                            0                 0                   0   \n",
       "1                            0                 0                   0   \n",
       "2                            0                 0                   0   \n",
       "3                            0                 0                   0   \n",
       "4                            1                 0                   0   \n",
       "\n",
       "   company_type_Public Sector  company_type_Pvt Ltd  \n",
       "0                           0                     1  \n",
       "1                           0                     1  \n",
       "2                           0                     1  \n",
       "3                           0                     1  \n",
       "4                           0                     0  "
      ]
     },
     "execution_count": 12,
     "metadata": {},
     "output_type": "execute_result"
    }
   ],
   "source": [
    "# The rest of cols I will encode with LabelEncoder and OneHotEncoder:\n",
    "from sklearn.preprocessing import LabelEncoder\n",
    "from sklearn.preprocessing import OneHotEncoder\n",
    "\n",
    "#columns for LabelEncoder (ordinal values)\n",
    "#col_list_1 = [enrolled_university, education_level]\n",
    "le = LabelEncoder()\n",
    "df['enrolled_university'] = le.fit_transform(df['enrolled_university'])\n",
    "df['education_level'] = le.fit_transform(df['education_level'])\n",
    "\n",
    "#columns for OneHotEncoder (non ordinal values, numerous values):\n",
    "#col_list_2 =[gender, relevent_experience, major_discipline, company_type]\n",
    "df = pd.get_dummies(df, columns=['gender', 'relevent_experience', 'major_discipline', 'company_type'], drop_first=True)\n",
    "df.head()"
   ]
  },
  {
   "cell_type": "markdown",
   "metadata": {
    "heading_collapsed": true,
    "hidden": true
   },
   "source": [
    "### Balancing data"
   ]
  },
  {
   "cell_type": "code",
   "execution_count": 15,
   "metadata": {
    "hidden": true
   },
   "outputs": [
    {
     "data": {
      "text/plain": [
       "<matplotlib.axes._subplots.AxesSubplot at 0x1d075a493c8>"
      ]
     },
     "execution_count": 15,
     "metadata": {},
     "output_type": "execute_result"
    },
    {
     "data": {
      "image/png": "[encoded data removed]",
      "text/plain": [
       "<Figure size 432x288 with 1 Axes>"
      ]
     },
     "metadata": {},
     "output_type": "display_data"
    }
   ],
   "source": [
    "# Data is highly imbalanced:\n",
    "sns.countplot(df['target'])"
   ]
  },
  {
   "cell_type": "code",
   "execution_count": 21,
   "metadata": {
    "hidden": true
   },
   "outputs": [
    {
     "data": {
      "text/plain": [
       "<matplotlib.axes._subplots.AxesSubplot at 0x1d07d93d488>"
      ]
     },
     "execution_count": 21,
     "metadata": {},
     "output_type": "execute_result"
    },
    {
     "data": {
      "image/png": "[encoded data removed]",
      "text/plain": [
       "<Figure size 432x288 with 1 Axes>"
      ]
     },
     "metadata": {},
     "output_type": "display_data"
    }
   ],
   "source": [
    "# Using SMOTE methode to balance my data\n",
    "\n",
    "from imblearn.over_sampling import SMOTE\n",
    "\n",
    "X = df.drop('target',1)\n",
    "y = df['target']\n",
    "\n",
    "smote = SMOTE(random_state = 14)\n",
    "X_smote, y_smote = smote.fit_resample(X,y)\n",
    "\n",
    "\n",
    "sns.countplot(y_smote)"
   ]
  },
  {
   "cell_type": "markdown",
   "metadata": {
    "heading_collapsed": true,
    "hidden": true
   },
   "source": [
    "### Splitting data for train & validation"
   ]
  },
  {
   "cell_type": "code",
   "execution_count": 46,
   "metadata": {
    "hidden": true
   },
   "outputs": [],
   "source": [
    "# Splitting data to train and test\n",
    "\n",
    "X_train, X_test,y_train,y_test = train_test_split(X_smote, y_smote, test_size=1/3, random_state=14)"
   ]
  },
  {
   "cell_type": "markdown",
   "metadata": {
    "heading_collapsed": true,
    "hidden": true
   },
   "source": [
    "### Scaling data"
   ]
  },
  {
   "cell_type": "code",
   "execution_count": 47,
   "metadata": {
    "hidden": true
   },
   "outputs": [],
   "source": [
    "scaler = StandardScaler()\n",
    "\n",
    "X_train_scaled = scaler.fit_transform(X_train)\n",
    "X_test_scaled = scaler.transform(X_test)"
   ]
  },
  {
   "cell_type": "markdown",
   "metadata": {
    "heading_collapsed": true
   },
   "source": [
    "## Classification models"
   ]
  },
  {
   "cell_type": "markdown",
   "metadata": {
    "hidden": true
   },
   "source": [
    "### Logistic regression"
   ]
  },
  {
   "cell_type": "code",
   "execution_count": 34,
   "metadata": {
    "hidden": true
   },
   "outputs": [
    {
     "data": {
      "text/plain": [
       "array([[3604, 1253],\n",
       "       [1271, 3460]], dtype=int64)"
      ]
     },
     "metadata": {},
     "output_type": "display_data"
    },
    {
     "name": "stdout",
     "output_type": "stream",
     "text": [
      "0.737 0.734 0.731 0.733\n"
     ]
    }
   ],
   "source": [
    "# Logistic regression (on non scaled data)\n",
    "\n",
    "# fitting on train:\n",
    "model1=LogisticRegression(max_iter=1e8).fit(X_train,y_train)\n",
    "# testing and scoring on test:\n",
    "y_pred1=model1.predict(X_test)\n",
    "\n",
    "conf1=confusion_matrix(y_test,y_pred1)\n",
    "display(conf1)\n",
    "\n",
    "acc1=accuracy_score(y_test,y_pred1).round(3)\n",
    "rec1=recall_score(y_test,y_pred1).round(3)\n",
    "pr1=precision_score(y_test,y_pred1).round(3)\n",
    "f11=f1_score(y_test,y_pred1).round(3)\n",
    "print(acc1,pr1,rec1,f11)"
   ]
  },
  {
   "cell_type": "markdown",
   "metadata": {
    "hidden": true
   },
   "source": [
    "### KNeighbors Classifier"
   ]
  },
  {
   "cell_type": "code",
   "execution_count": 52,
   "metadata": {
    "hidden": true
   },
   "outputs": [
    {
     "data": {
      "text/plain": [
       "array([[2987, 1870],\n",
       "       [ 678, 4053]], dtype=int64)"
      ]
     },
     "metadata": {},
     "output_type": "display_data"
    },
    {
     "name": "stdout",
     "output_type": "stream",
     "text": [
      "0.734 0.684 0.857 0.761\n"
     ]
    }
   ],
   "source": [
    "# KNeighbors Classifier\n",
    "\n",
    "model2=KNeighborsClassifier(n_neighbors=3).fit(X_train,y_train)\n",
    "y_pred2=model2.predict(X_test)\n",
    "\n",
    "conf2=confusion_matrix(y_test,y_pred2)\n",
    "display(conf2)\n",
    "\n",
    "acc2=accuracy_score(y_test,y_pred2).round(3)\n",
    "rec2=recall_score(y_test,y_pred2).round(3)\n",
    "pr2=precision_score(y_test,y_pred2).round(3)\n",
    "f12=f1_score(y_test,y_pred2).round(3)\n",
    "print(acc2,pr2,rec2,f12)"
   ]
  },
  {
   "cell_type": "code",
   "execution_count": 42,
   "metadata": {
    "hidden": true
   },
   "outputs": [
    {
     "data": {
      "text/plain": [
       "Text(0, 0.5, 'Recall')"
      ]
     },
     "execution_count": 42,
     "metadata": {},
     "output_type": "execute_result"
    },
    {
     "data": {
      "image/png": "[encoded data removed]",
      "text/plain": [
       "<Figure size 432x288 with 1 Axes>"
      ]
     },
     "metadata": {},
     "output_type": "display_data"
    }
   ],
   "source": [
    "# I will try to find best neighbors number n (targetting recall):\n",
    "\n",
    "rec_lst = []\n",
    "for i in range(1,10):\n",
    "    model2b = KNeighborsClassifier(n_neighbors = i).fit(X_train, y_train)\n",
    "    y_pred2b=model2b.predict(X_test)\n",
    "    rec_lst.append(recall_score(y_test, y_pred2b))\n",
    "    \n",
    "plt.plot(range(1,10), rec_lst)\n",
    "\n",
    "plt.xticks(np.arange(1,10,1))\n",
    "plt.xlabel(\"Nb of neighbors-n\")\n",
    "plt.ylabel(\"Recall\")"
   ]
  },
  {
   "cell_type": "code",
   "execution_count": 40,
   "metadata": {
    "hidden": true
   },
   "outputs": [],
   "source": [
    "# conclusion: I should change for n=3 in above model.\n",
    "# with n=3 model performes much better\n",
    "# interestingly model perform much better on not scaled data"
   ]
  },
  {
   "cell_type": "markdown",
   "metadata": {
    "hidden": true
   },
   "source": [
    "### XGB Classifier"
   ]
  },
  {
   "cell_type": "code",
   "execution_count": 50,
   "metadata": {
    "hidden": true
   },
   "outputs": [
    {
     "data": {
      "text/plain": [
       "array([[3639, 1218],\n",
       "       [ 982, 3749]], dtype=int64)"
      ]
     },
     "metadata": {},
     "output_type": "display_data"
    },
    {
     "name": "stdout",
     "output_type": "stream",
     "text": [
      "0.771 0.755 0.792 0.773\n"
     ]
    }
   ],
   "source": [
    "model3 = XGBClassifier().fit(X_train_scaled,y_train)\n",
    "y_pred3 = model3.predict(X_test_scaled)\n",
    "\n",
    "conf3 = confusion_matrix(y_test,y_pred3)\n",
    "display(conf3)\n",
    "\n",
    "acc3 = accuracy_score(y_test,y_pred3).round(3)\n",
    "rec3 = recall_score(y_test,y_pred3).round(3)\n",
    "pr3 = precision_score(y_test,y_pred3).round(3)\n",
    "f13=f1_score(y_test,y_pred3).round(3)\n",
    "\n",
    "print(acc3,pr3,rec3,f13)"
   ]
  },
  {
   "cell_type": "markdown",
   "metadata": {
    "hidden": true
   },
   "source": [
    "### Cat Boost"
   ]
  },
  {
   "cell_type": "code",
   "execution_count": 54,
   "metadata": {
    "hidden": true
   },
   "outputs": [
    {
     "name": "stdout",
     "output_type": "stream",
     "text": [
      "Learning rate set to 0.038648\n",
      "0:\tlearn: 0.6831790\ttotal: 13.7ms\tremaining: 13.7s\n",
      "1:\tlearn: 0.6734139\ttotal: 27.1ms\tremaining: 13.5s\n",
      "2:\tlearn: 0.6642151\ttotal: 39.1ms\tremaining: 13s\n",
      "3:\tlearn: 0.6560268\ttotal: 51.3ms\tremaining: 12.8s\n",
      "4:\tlearn: 0.6487791\ttotal: 66.9ms\tremaining: 13.3s\n",
      "5:\tlearn: 0.6416061\ttotal: 79.3ms\tremaining: 13.1s\n",
      "6:\tlearn: 0.6354267\ttotal: 89.1ms\tremaining: 12.6s\n",
      "7:\tlearn: 0.6295386\ttotal: 102ms\tremaining: 12.6s\n",
      "8:\tlearn: 0.6234109\ttotal: 114ms\tremaining: 12.6s\n",
      "9:\tlearn: 0.6182277\ttotal: 129ms\tremaining: 12.8s\n",
      "10:\tlearn: 0.6135681\ttotal: 146ms\tremaining: 13.1s\n",
      "11:\tlearn: 0.6089802\ttotal: 156ms\tremaining: 12.8s\n",
      "12:\tlearn: 0.6044630\ttotal: 172ms\tremaining: 13.1s\n",
      "13:\tlearn: 0.6001527\ttotal: 186ms\tremaining: 13.1s\n",
      "14:\tlearn: 0.5963779\ttotal: 196ms\tremaining: 12.9s\n",
      "15:\tlearn: 0.5926155\ttotal: 211ms\tremaining: 13s\n",
      "16:\tlearn: 0.5895999\ttotal: 228ms\tremaining: 13.2s\n",
      "17:\tlearn: 0.5864135\ttotal: 271ms\tremaining: 14.8s\n",
      "18:\tlearn: 0.5836470\ttotal: 285ms\tremaining: 14.7s\n",
      "19:\tlearn: 0.5808082\ttotal: 298ms\tremaining: 14.6s\n",
      "20:\tlearn: 0.5784475\ttotal: 310ms\tremaining: 14.5s\n",
      "21:\tlearn: 0.5760660\ttotal: 323ms\tremaining: 14.4s\n",
      "22:\tlearn: 0.5739173\ttotal: 339ms\tremaining: 14.4s\n",
      "23:\tlearn: 0.5714903\ttotal: 352ms\tremaining: 14.3s\n",
      "24:\tlearn: 0.5694788\ttotal: 366ms\tremaining: 14.3s\n",
      "25:\tlearn: 0.5676863\ttotal: 378ms\tremaining: 14.2s\n",
      "26:\tlearn: 0.5660375\ttotal: 396ms\tremaining: 14.3s\n",
      "27:\tlearn: 0.5642797\ttotal: 439ms\tremaining: 15.2s\n",
      "28:\tlearn: 0.5626459\ttotal: 460ms\tremaining: 15.4s\n",
      "29:\tlearn: 0.5609603\ttotal: 485ms\tremaining: 15.7s\n",
      "30:\tlearn: 0.5591661\ttotal: 498ms\tremaining: 15.6s\n",
      "31:\tlearn: 0.5576670\ttotal: 514ms\tremaining: 15.5s\n",
      "32:\tlearn: 0.5565750\ttotal: 548ms\tremaining: 16.1s\n",
      "33:\tlearn: 0.5551577\ttotal: 561ms\tremaining: 15.9s\n",
      "34:\tlearn: 0.5539162\ttotal: 576ms\tremaining: 15.9s\n",
      "35:\tlearn: 0.5528337\ttotal: 606ms\tremaining: 16.2s\n",
      "36:\tlearn: 0.5513743\ttotal: 619ms\tremaining: 16.1s\n",
      "37:\tlearn: 0.5503533\ttotal: 633ms\tremaining: 16s\n",
      "38:\tlearn: 0.5492613\ttotal: 646ms\tremaining: 15.9s\n",
      "39:\tlearn: 0.5480104\ttotal: 658ms\tremaining: 15.8s\n",
      "40:\tlearn: 0.5469120\ttotal: 677ms\tremaining: 15.8s\n",
      "41:\tlearn: 0.5458492\ttotal: 690ms\tremaining: 15.7s\n",
      "42:\tlearn: 0.5444314\ttotal: 700ms\tremaining: 15.6s\n",
      "43:\tlearn: 0.5430978\ttotal: 725ms\tremaining: 15.8s\n",
      "44:\tlearn: 0.5420702\ttotal: 749ms\tremaining: 15.9s\n",
      "45:\tlearn: 0.5414146\ttotal: 765ms\tremaining: 15.9s\n",
      "46:\tlearn: 0.5403629\ttotal: 777ms\tremaining: 15.7s\n",
      "47:\tlearn: 0.5392141\ttotal: 790ms\tremaining: 15.7s\n",
      "48:\tlearn: 0.5381781\ttotal: 802ms\tremaining: 15.6s\n",
      "49:\tlearn: 0.5373307\ttotal: 814ms\tremaining: 15.5s\n",
      "50:\tlearn: 0.5366078\ttotal: 827ms\tremaining: 15.4s\n",
      "51:\tlearn: 0.5355456\ttotal: 840ms\tremaining: 15.3s\n",
      "52:\tlearn: 0.5348589\ttotal: 852ms\tremaining: 15.2s\n",
      "53:\tlearn: 0.5335804\ttotal: 863ms\tremaining: 15.1s\n",
      "54:\tlearn: 0.5326961\ttotal: 876ms\tremaining: 15s\n",
      "55:\tlearn: 0.5320627\ttotal: 895ms\tremaining: 15.1s\n",
      "56:\tlearn: 0.5305167\ttotal: 908ms\tremaining: 15s\n",
      "57:\tlearn: 0.5298714\ttotal: 937ms\tremaining: 15.2s\n",
      "58:\tlearn: 0.5288981\ttotal: 950ms\tremaining: 15.2s\n",
      "59:\tlearn: 0.5276731\ttotal: 963ms\tremaining: 15.1s\n",
      "60:\tlearn: 0.5269305\ttotal: 983ms\tremaining: 15.1s\n",
      "61:\tlearn: 0.5253225\ttotal: 995ms\tremaining: 15.1s\n",
      "62:\tlearn: 0.5245069\ttotal: 1.01s\tremaining: 15.1s\n",
      "63:\tlearn: 0.5239613\ttotal: 1.02s\tremaining: 15s\n",
      "64:\tlearn: 0.5227883\ttotal: 1.04s\tremaining: 14.9s\n",
      "65:\tlearn: 0.5222093\ttotal: 1.05s\tremaining: 14.9s\n",
      "66:\tlearn: 0.5216649\ttotal: 1.07s\tremaining: 14.9s\n",
      "67:\tlearn: 0.5210298\ttotal: 1.08s\tremaining: 14.9s\n",
      "68:\tlearn: 0.5204201\ttotal: 1.1s\tremaining: 14.8s\n",
      "69:\tlearn: 0.5198376\ttotal: 1.11s\tremaining: 14.8s\n",
      "70:\tlearn: 0.5186884\ttotal: 1.13s\tremaining: 14.7s\n",
      "71:\tlearn: 0.5180549\ttotal: 1.14s\tremaining: 14.7s\n",
      "72:\tlearn: 0.5176722\ttotal: 1.16s\tremaining: 14.8s\n",
      "73:\tlearn: 0.5167166\ttotal: 1.17s\tremaining: 14.7s\n",
      "74:\tlearn: 0.5162423\ttotal: 1.19s\tremaining: 14.6s\n",
      "75:\tlearn: 0.5158095\ttotal: 1.24s\tremaining: 15.1s\n",
      "76:\tlearn: 0.5151608\ttotal: 1.25s\tremaining: 15s\n",
      "77:\tlearn: 0.5143129\ttotal: 1.26s\tremaining: 14.9s\n",
      "78:\tlearn: 0.5133542\ttotal: 1.27s\tremaining: 14.9s\n",
      "79:\tlearn: 0.5130465\ttotal: 1.29s\tremaining: 14.8s\n",
      "80:\tlearn: 0.5125700\ttotal: 1.3s\tremaining: 14.8s\n",
      "81:\tlearn: 0.5117449\ttotal: 1.32s\tremaining: 14.7s\n",
      "82:\tlearn: 0.5113548\ttotal: 1.33s\tremaining: 14.7s\n",
      "83:\tlearn: 0.5108119\ttotal: 1.34s\tremaining: 14.6s\n",
      "84:\tlearn: 0.5102270\ttotal: 1.36s\tremaining: 14.6s\n",
      "85:\tlearn: 0.5094556\ttotal: 1.39s\tremaining: 14.8s\n",
      "86:\tlearn: 0.5090484\ttotal: 1.43s\tremaining: 15s\n",
      "87:\tlearn: 0.5085119\ttotal: 1.45s\tremaining: 15.1s\n",
      "88:\tlearn: 0.5082422\ttotal: 1.47s\tremaining: 15s\n",
      "89:\tlearn: 0.5070341\ttotal: 1.48s\tremaining: 15s\n",
      "90:\tlearn: 0.5066118\ttotal: 1.5s\tremaining: 15s\n",
      "91:\tlearn: 0.5060362\ttotal: 1.52s\tremaining: 15s\n",
      "92:\tlearn: 0.5056815\ttotal: 1.53s\tremaining: 14.9s\n",
      "93:\tlearn: 0.5051108\ttotal: 1.58s\tremaining: 15.2s\n",
      "94:\tlearn: 0.5048218\ttotal: 1.59s\tremaining: 15.2s\n",
      "95:\tlearn: 0.5041738\ttotal: 1.61s\tremaining: 15.1s\n",
      "96:\tlearn: 0.5033295\ttotal: 1.62s\tremaining: 15.1s\n",
      "97:\tlearn: 0.5030794\ttotal: 1.64s\tremaining: 15.1s\n",
      "98:\tlearn: 0.5028426\ttotal: 1.66s\tremaining: 15.1s\n",
      "99:\tlearn: 0.5024270\ttotal: 1.73s\tremaining: 15.5s\n",
      "100:\tlearn: 0.5021101\ttotal: 1.76s\tremaining: 15.6s\n",
      "101:\tlearn: 0.5013492\ttotal: 1.78s\tremaining: 15.6s\n",
      "102:\tlearn: 0.5010390\ttotal: 1.79s\tremaining: 15.6s\n",
      "103:\tlearn: 0.5007426\ttotal: 1.8s\tremaining: 15.5s\n",
      "104:\tlearn: 0.5004859\ttotal: 1.83s\tremaining: 15.6s\n",
      "105:\tlearn: 0.5001679\ttotal: 1.84s\tremaining: 15.5s\n",
      "106:\tlearn: 0.4998801\ttotal: 1.86s\tremaining: 15.5s\n",
      "107:\tlearn: 0.4995500\ttotal: 1.88s\tremaining: 15.5s\n",
      "108:\tlearn: 0.4987926\ttotal: 1.92s\tremaining: 15.7s\n",
      "109:\tlearn: 0.4982605\ttotal: 1.95s\tremaining: 15.8s\n",
      "110:\tlearn: 0.4975007\ttotal: 1.96s\tremaining: 15.7s\n",
      "111:\tlearn: 0.4972330\ttotal: 1.99s\tremaining: 15.8s\n",
      "112:\tlearn: 0.4966876\ttotal: 2.01s\tremaining: 15.8s\n",
      "113:\tlearn: 0.4963843\ttotal: 2.03s\tremaining: 15.8s\n",
      "114:\tlearn: 0.4956674\ttotal: 2.05s\tremaining: 15.8s\n",
      "115:\tlearn: 0.4954112\ttotal: 2.06s\tremaining: 15.7s\n",
      "116:\tlearn: 0.4950453\ttotal: 2.1s\tremaining: 15.8s\n",
      "117:\tlearn: 0.4945017\ttotal: 2.13s\tremaining: 15.9s\n",
      "118:\tlearn: 0.4942293\ttotal: 2.15s\tremaining: 15.9s\n",
      "119:\tlearn: 0.4939495\ttotal: 2.2s\tremaining: 16.1s\n",
      "120:\tlearn: 0.4936259\ttotal: 2.21s\tremaining: 16.1s\n",
      "121:\tlearn: 0.4933202\ttotal: 2.23s\tremaining: 16.1s\n",
      "122:\tlearn: 0.4930440\ttotal: 2.25s\tremaining: 16s\n",
      "123:\tlearn: 0.4928043\ttotal: 2.26s\tremaining: 16s\n",
      "124:\tlearn: 0.4925343\ttotal: 2.29s\tremaining: 16s\n",
      "125:\tlearn: 0.4922133\ttotal: 2.3s\tremaining: 16s\n",
      "126:\tlearn: 0.4917267\ttotal: 2.32s\tremaining: 16s\n",
      "127:\tlearn: 0.4914584\ttotal: 2.34s\tremaining: 15.9s\n",
      "128:\tlearn: 0.4912556\ttotal: 2.36s\tremaining: 16s\n",
      "129:\tlearn: 0.4906746\ttotal: 2.38s\tremaining: 15.9s\n",
      "130:\tlearn: 0.4904680\ttotal: 2.39s\tremaining: 15.9s\n",
      "131:\tlearn: 0.4900480\ttotal: 2.43s\tremaining: 16s\n",
      "132:\tlearn: 0.4896828\ttotal: 2.44s\tremaining: 15.9s\n",
      "133:\tlearn: 0.4894521\ttotal: 2.46s\tremaining: 15.9s\n",
      "134:\tlearn: 0.4892129\ttotal: 2.49s\tremaining: 16s\n",
      "135:\tlearn: 0.4888530\ttotal: 2.5s\tremaining: 15.9s\n",
      "136:\tlearn: 0.4887036\ttotal: 2.54s\tremaining: 16s\n",
      "137:\tlearn: 0.4880074\ttotal: 2.56s\tremaining: 16s\n",
      "138:\tlearn: 0.4878435\ttotal: 2.58s\tremaining: 16s\n",
      "139:\tlearn: 0.4876304\ttotal: 2.59s\tremaining: 15.9s\n",
      "140:\tlearn: 0.4872552\ttotal: 2.6s\tremaining: 15.9s\n",
      "141:\tlearn: 0.4870625\ttotal: 2.62s\tremaining: 15.8s\n",
      "142:\tlearn: 0.4864633\ttotal: 2.63s\tremaining: 15.8s\n",
      "143:\tlearn: 0.4859865\ttotal: 2.64s\tremaining: 15.7s\n",
      "144:\tlearn: 0.4856951\ttotal: 2.66s\tremaining: 15.7s\n",
      "145:\tlearn: 0.4855167\ttotal: 2.67s\tremaining: 15.6s\n",
      "146:\tlearn: 0.4851299\ttotal: 2.68s\tremaining: 15.6s\n",
      "147:\tlearn: 0.4849804\ttotal: 2.69s\tremaining: 15.5s\n",
      "148:\tlearn: 0.4847487\ttotal: 2.74s\tremaining: 15.7s\n",
      "149:\tlearn: 0.4845769\ttotal: 2.77s\tremaining: 15.7s\n",
      "150:\tlearn: 0.4843611\ttotal: 2.79s\tremaining: 15.7s\n",
      "151:\tlearn: 0.4839256\ttotal: 2.81s\tremaining: 15.7s\n",
      "152:\tlearn: 0.4836408\ttotal: 2.82s\tremaining: 15.6s\n",
      "153:\tlearn: 0.4832509\ttotal: 2.84s\tremaining: 15.6s\n",
      "154:\tlearn: 0.4831150\ttotal: 2.85s\tremaining: 15.5s\n",
      "155:\tlearn: 0.4827861\ttotal: 2.86s\tremaining: 15.5s\n",
      "156:\tlearn: 0.4824911\ttotal: 2.87s\tremaining: 15.4s\n",
      "157:\tlearn: 0.4820917\ttotal: 2.88s\tremaining: 15.4s\n",
      "158:\tlearn: 0.4818662\ttotal: 2.9s\tremaining: 15.3s\n",
      "159:\tlearn: 0.4809849\ttotal: 2.91s\tremaining: 15.3s\n",
      "160:\tlearn: 0.4808593\ttotal: 2.93s\tremaining: 15.3s\n"
     ]
    },
    {
     "name": "stdout",
     "output_type": "stream",
     "text": [
      "161:\tlearn: 0.4803052\ttotal: 2.96s\tremaining: 15.3s\n",
      "162:\tlearn: 0.4798890\ttotal: 3s\tremaining: 15.4s\n",
      "163:\tlearn: 0.4797434\ttotal: 3.01s\tremaining: 15.3s\n",
      "164:\tlearn: 0.4795219\ttotal: 3.02s\tremaining: 15.3s\n",
      "165:\tlearn: 0.4793518\ttotal: 3.04s\tremaining: 15.3s\n",
      "166:\tlearn: 0.4789311\ttotal: 3.05s\tremaining: 15.2s\n",
      "167:\tlearn: 0.4787376\ttotal: 3.07s\tremaining: 15.2s\n",
      "168:\tlearn: 0.4783212\ttotal: 3.08s\tremaining: 15.2s\n",
      "169:\tlearn: 0.4781912\ttotal: 3.1s\tremaining: 15.1s\n",
      "170:\tlearn: 0.4779017\ttotal: 3.11s\tremaining: 15.1s\n",
      "171:\tlearn: 0.4775780\ttotal: 3.12s\tremaining: 15s\n",
      "172:\tlearn: 0.4774197\ttotal: 3.15s\tremaining: 15s\n",
      "173:\tlearn: 0.4773003\ttotal: 3.16s\tremaining: 15s\n",
      "174:\tlearn: 0.4768696\ttotal: 3.18s\tremaining: 15s\n",
      "175:\tlearn: 0.4765730\ttotal: 3.19s\tremaining: 14.9s\n",
      "176:\tlearn: 0.4763369\ttotal: 3.2s\tremaining: 14.9s\n",
      "177:\tlearn: 0.4759992\ttotal: 3.21s\tremaining: 14.8s\n",
      "178:\tlearn: 0.4757910\ttotal: 3.23s\tremaining: 14.8s\n",
      "179:\tlearn: 0.4755670\ttotal: 3.24s\tremaining: 14.8s\n",
      "180:\tlearn: 0.4753601\ttotal: 3.25s\tremaining: 14.7s\n",
      "181:\tlearn: 0.4752058\ttotal: 3.27s\tremaining: 14.7s\n",
      "182:\tlearn: 0.4749878\ttotal: 3.28s\tremaining: 14.6s\n",
      "183:\tlearn: 0.4739538\ttotal: 3.29s\tremaining: 14.6s\n",
      "184:\tlearn: 0.4737559\ttotal: 3.33s\tremaining: 14.7s\n",
      "185:\tlearn: 0.4735724\ttotal: 3.34s\tremaining: 14.6s\n",
      "186:\tlearn: 0.4732792\ttotal: 3.35s\tremaining: 14.6s\n",
      "187:\tlearn: 0.4728908\ttotal: 3.37s\tremaining: 14.5s\n",
      "188:\tlearn: 0.4726906\ttotal: 3.38s\tremaining: 14.5s\n",
      "189:\tlearn: 0.4724279\ttotal: 3.39s\tremaining: 14.5s\n",
      "190:\tlearn: 0.4721941\ttotal: 3.4s\tremaining: 14.4s\n",
      "191:\tlearn: 0.4720277\ttotal: 3.42s\tremaining: 14.4s\n",
      "192:\tlearn: 0.4718804\ttotal: 3.43s\tremaining: 14.3s\n",
      "193:\tlearn: 0.4714344\ttotal: 3.44s\tremaining: 14.3s\n",
      "194:\tlearn: 0.4712634\ttotal: 3.45s\tremaining: 14.3s\n",
      "195:\tlearn: 0.4710439\ttotal: 3.46s\tremaining: 14.2s\n",
      "196:\tlearn: 0.4709078\ttotal: 3.48s\tremaining: 14.2s\n",
      "197:\tlearn: 0.4707767\ttotal: 3.52s\tremaining: 14.3s\n",
      "198:\tlearn: 0.4704699\ttotal: 3.54s\tremaining: 14.2s\n",
      "199:\tlearn: 0.4703442\ttotal: 3.56s\tremaining: 14.2s\n",
      "200:\tlearn: 0.4699605\ttotal: 3.57s\tremaining: 14.2s\n",
      "201:\tlearn: 0.4698126\ttotal: 3.58s\tremaining: 14.1s\n",
      "202:\tlearn: 0.4696749\ttotal: 3.6s\tremaining: 14.2s\n",
      "203:\tlearn: 0.4695375\ttotal: 3.62s\tremaining: 14.1s\n",
      "204:\tlearn: 0.4693340\ttotal: 3.63s\tremaining: 14.1s\n",
      "205:\tlearn: 0.4690812\ttotal: 3.65s\tremaining: 14s\n",
      "206:\tlearn: 0.4689150\ttotal: 3.66s\tremaining: 14s\n",
      "207:\tlearn: 0.4687384\ttotal: 3.7s\tremaining: 14.1s\n",
      "208:\tlearn: 0.4685385\ttotal: 3.71s\tremaining: 14s\n",
      "209:\tlearn: 0.4684275\ttotal: 3.73s\tremaining: 14s\n",
      "210:\tlearn: 0.4678615\ttotal: 3.74s\tremaining: 14s\n",
      "211:\tlearn: 0.4674628\ttotal: 3.75s\tremaining: 13.9s\n",
      "212:\tlearn: 0.4672515\ttotal: 3.77s\tremaining: 13.9s\n",
      "213:\tlearn: 0.4671146\ttotal: 3.78s\tremaining: 13.9s\n",
      "214:\tlearn: 0.4669192\ttotal: 3.79s\tremaining: 13.8s\n",
      "215:\tlearn: 0.4668239\ttotal: 3.81s\tremaining: 13.8s\n",
      "216:\tlearn: 0.4666291\ttotal: 3.82s\tremaining: 13.8s\n",
      "217:\tlearn: 0.4665124\ttotal: 3.84s\tremaining: 13.8s\n",
      "218:\tlearn: 0.4663345\ttotal: 3.87s\tremaining: 13.8s\n",
      "219:\tlearn: 0.4662062\ttotal: 3.9s\tremaining: 13.8s\n",
      "220:\tlearn: 0.4659217\ttotal: 3.91s\tremaining: 13.8s\n",
      "221:\tlearn: 0.4655612\ttotal: 3.95s\tremaining: 13.8s\n",
      "222:\tlearn: 0.4654233\ttotal: 3.97s\tremaining: 13.8s\n",
      "223:\tlearn: 0.4647579\ttotal: 4s\tremaining: 13.9s\n",
      "224:\tlearn: 0.4646414\ttotal: 4.02s\tremaining: 13.9s\n",
      "225:\tlearn: 0.4645024\ttotal: 4.07s\tremaining: 13.9s\n",
      "226:\tlearn: 0.4641607\ttotal: 4.09s\tremaining: 13.9s\n",
      "227:\tlearn: 0.4637676\ttotal: 4.13s\tremaining: 14s\n",
      "228:\tlearn: 0.4636218\ttotal: 4.15s\tremaining: 14s\n",
      "229:\tlearn: 0.4631303\ttotal: 4.17s\tremaining: 14s\n",
      "230:\tlearn: 0.4629709\ttotal: 4.19s\tremaining: 14s\n",
      "231:\tlearn: 0.4626492\ttotal: 4.23s\tremaining: 14s\n",
      "232:\tlearn: 0.4623868\ttotal: 4.25s\tremaining: 14s\n",
      "233:\tlearn: 0.4616458\ttotal: 4.29s\tremaining: 14.1s\n",
      "234:\tlearn: 0.4611873\ttotal: 4.31s\tremaining: 14s\n",
      "235:\tlearn: 0.4608774\ttotal: 4.34s\tremaining: 14.1s\n",
      "236:\tlearn: 0.4606315\ttotal: 4.35s\tremaining: 14s\n",
      "237:\tlearn: 0.4600661\ttotal: 4.37s\tremaining: 14s\n",
      "238:\tlearn: 0.4599429\ttotal: 4.39s\tremaining: 14s\n",
      "239:\tlearn: 0.4597305\ttotal: 4.4s\tremaining: 13.9s\n",
      "240:\tlearn: 0.4594790\ttotal: 4.42s\tremaining: 13.9s\n",
      "241:\tlearn: 0.4592501\ttotal: 4.45s\tremaining: 14s\n",
      "242:\tlearn: 0.4590650\ttotal: 4.47s\tremaining: 13.9s\n",
      "243:\tlearn: 0.4588395\ttotal: 4.48s\tremaining: 13.9s\n",
      "244:\tlearn: 0.4583739\ttotal: 4.51s\tremaining: 13.9s\n",
      "245:\tlearn: 0.4578935\ttotal: 4.53s\tremaining: 13.9s\n",
      "246:\tlearn: 0.4574550\ttotal: 4.54s\tremaining: 13.8s\n",
      "247:\tlearn: 0.4573432\ttotal: 4.56s\tremaining: 13.8s\n",
      "248:\tlearn: 0.4570865\ttotal: 4.58s\tremaining: 13.8s\n",
      "249:\tlearn: 0.4569180\ttotal: 4.59s\tremaining: 13.8s\n",
      "250:\tlearn: 0.4567750\ttotal: 4.62s\tremaining: 13.8s\n",
      "251:\tlearn: 0.4565814\ttotal: 4.66s\tremaining: 13.8s\n",
      "252:\tlearn: 0.4562891\ttotal: 4.67s\tremaining: 13.8s\n",
      "253:\tlearn: 0.4560084\ttotal: 4.68s\tremaining: 13.8s\n",
      "254:\tlearn: 0.4558661\ttotal: 4.7s\tremaining: 13.7s\n",
      "255:\tlearn: 0.4556125\ttotal: 4.71s\tremaining: 13.7s\n",
      "256:\tlearn: 0.4550898\ttotal: 4.73s\tremaining: 13.7s\n",
      "257:\tlearn: 0.4546091\ttotal: 4.75s\tremaining: 13.6s\n",
      "258:\tlearn: 0.4541097\ttotal: 4.76s\tremaining: 13.6s\n",
      "259:\tlearn: 0.4538414\ttotal: 4.77s\tremaining: 13.6s\n",
      "260:\tlearn: 0.4535272\ttotal: 4.79s\tremaining: 13.5s\n",
      "261:\tlearn: 0.4532289\ttotal: 4.83s\tremaining: 13.6s\n",
      "262:\tlearn: 0.4529882\ttotal: 4.84s\tremaining: 13.6s\n",
      "263:\tlearn: 0.4525351\ttotal: 4.85s\tremaining: 13.5s\n",
      "264:\tlearn: 0.4524117\ttotal: 4.87s\tremaining: 13.5s\n",
      "265:\tlearn: 0.4521345\ttotal: 4.88s\tremaining: 13.5s\n",
      "266:\tlearn: 0.4519292\ttotal: 4.89s\tremaining: 13.4s\n",
      "267:\tlearn: 0.4517614\ttotal: 4.9s\tremaining: 13.4s\n",
      "268:\tlearn: 0.4513773\ttotal: 4.91s\tremaining: 13.4s\n",
      "269:\tlearn: 0.4511349\ttotal: 4.92s\tremaining: 13.3s\n",
      "270:\tlearn: 0.4509282\ttotal: 4.94s\tremaining: 13.3s\n",
      "271:\tlearn: 0.4507766\ttotal: 4.95s\tremaining: 13.2s\n",
      "272:\tlearn: 0.4505896\ttotal: 4.96s\tremaining: 13.2s\n",
      "273:\tlearn: 0.4504622\ttotal: 4.97s\tremaining: 13.2s\n",
      "274:\tlearn: 0.4503668\ttotal: 5.02s\tremaining: 13.2s\n",
      "275:\tlearn: 0.4502306\ttotal: 5.03s\tremaining: 13.2s\n",
      "276:\tlearn: 0.4500036\ttotal: 5.04s\tremaining: 13.2s\n",
      "277:\tlearn: 0.4492861\ttotal: 5.05s\tremaining: 13.1s\n",
      "278:\tlearn: 0.4488060\ttotal: 5.07s\tremaining: 13.1s\n",
      "279:\tlearn: 0.4484635\ttotal: 5.08s\tremaining: 13.1s\n",
      "280:\tlearn: 0.4481674\ttotal: 5.09s\tremaining: 13s\n",
      "281:\tlearn: 0.4479751\ttotal: 5.11s\tremaining: 13s\n",
      "282:\tlearn: 0.4476645\ttotal: 5.12s\tremaining: 13s\n",
      "283:\tlearn: 0.4475089\ttotal: 5.13s\tremaining: 12.9s\n",
      "284:\tlearn: 0.4471245\ttotal: 5.14s\tremaining: 12.9s\n",
      "285:\tlearn: 0.4469237\ttotal: 5.16s\tremaining: 12.9s\n",
      "286:\tlearn: 0.4464471\ttotal: 5.19s\tremaining: 12.9s\n",
      "287:\tlearn: 0.4461551\ttotal: 5.2s\tremaining: 12.9s\n",
      "288:\tlearn: 0.4458189\ttotal: 5.21s\tremaining: 12.8s\n",
      "289:\tlearn: 0.4455696\ttotal: 5.23s\tremaining: 12.8s\n",
      "290:\tlearn: 0.4453545\ttotal: 5.25s\tremaining: 12.8s\n",
      "291:\tlearn: 0.4452304\ttotal: 5.26s\tremaining: 12.8s\n",
      "292:\tlearn: 0.4450821\ttotal: 5.27s\tremaining: 12.7s\n",
      "293:\tlearn: 0.4444903\ttotal: 5.29s\tremaining: 12.7s\n",
      "294:\tlearn: 0.4442275\ttotal: 5.3s\tremaining: 12.7s\n",
      "295:\tlearn: 0.4439036\ttotal: 5.31s\tremaining: 12.6s\n",
      "296:\tlearn: 0.4437547\ttotal: 5.33s\tremaining: 12.6s\n",
      "297:\tlearn: 0.4428697\ttotal: 5.34s\tremaining: 12.6s\n",
      "298:\tlearn: 0.4421100\ttotal: 5.37s\tremaining: 12.6s\n",
      "299:\tlearn: 0.4419068\ttotal: 5.38s\tremaining: 12.6s\n",
      "300:\tlearn: 0.4411867\ttotal: 5.39s\tremaining: 12.5s\n",
      "301:\tlearn: 0.4404485\ttotal: 5.41s\tremaining: 12.5s\n",
      "302:\tlearn: 0.4403162\ttotal: 5.42s\tremaining: 12.5s\n",
      "303:\tlearn: 0.4400501\ttotal: 5.43s\tremaining: 12.4s\n",
      "304:\tlearn: 0.4396536\ttotal: 5.45s\tremaining: 12.4s\n",
      "305:\tlearn: 0.4394512\ttotal: 5.46s\tremaining: 12.4s\n",
      "306:\tlearn: 0.4392736\ttotal: 5.48s\tremaining: 12.4s\n",
      "307:\tlearn: 0.4391659\ttotal: 5.5s\tremaining: 12.3s\n",
      "308:\tlearn: 0.4384837\ttotal: 5.51s\tremaining: 12.3s\n",
      "309:\tlearn: 0.4383175\ttotal: 5.52s\tremaining: 12.3s\n",
      "310:\tlearn: 0.4381587\ttotal: 5.54s\tremaining: 12.3s\n",
      "311:\tlearn: 0.4379525\ttotal: 5.57s\tremaining: 12.3s\n",
      "312:\tlearn: 0.4377558\ttotal: 5.58s\tremaining: 12.3s\n",
      "313:\tlearn: 0.4373776\ttotal: 5.6s\tremaining: 12.2s\n",
      "314:\tlearn: 0.4371050\ttotal: 5.61s\tremaining: 12.2s\n",
      "315:\tlearn: 0.4370004\ttotal: 5.62s\tremaining: 12.2s\n",
      "316:\tlearn: 0.4368060\ttotal: 5.63s\tremaining: 12.1s\n",
      "317:\tlearn: 0.4365391\ttotal: 5.64s\tremaining: 12.1s\n",
      "318:\tlearn: 0.4361609\ttotal: 5.66s\tremaining: 12.1s\n",
      "319:\tlearn: 0.4359127\ttotal: 5.67s\tremaining: 12s\n",
      "320:\tlearn: 0.4358039\ttotal: 5.69s\tremaining: 12s\n",
      "321:\tlearn: 0.4356562\ttotal: 5.7s\tremaining: 12s\n"
     ]
    },
    {
     "name": "stdout",
     "output_type": "stream",
     "text": [
      "322:\tlearn: 0.4355283\ttotal: 5.73s\tremaining: 12s\n",
      "323:\tlearn: 0.4348683\ttotal: 5.76s\tremaining: 12s\n",
      "324:\tlearn: 0.4343759\ttotal: 5.78s\tremaining: 12s\n",
      "325:\tlearn: 0.4338841\ttotal: 5.79s\tremaining: 12s\n",
      "326:\tlearn: 0.4337805\ttotal: 5.81s\tremaining: 12s\n",
      "327:\tlearn: 0.4332653\ttotal: 5.82s\tremaining: 11.9s\n",
      "328:\tlearn: 0.4327916\ttotal: 5.83s\tremaining: 11.9s\n",
      "329:\tlearn: 0.4326042\ttotal: 5.84s\tremaining: 11.9s\n",
      "330:\tlearn: 0.4325278\ttotal: 5.86s\tremaining: 11.8s\n",
      "331:\tlearn: 0.4322449\ttotal: 5.87s\tremaining: 11.8s\n",
      "332:\tlearn: 0.4317218\ttotal: 5.88s\tremaining: 11.8s\n",
      "333:\tlearn: 0.4313376\ttotal: 5.92s\tremaining: 11.8s\n",
      "334:\tlearn: 0.4308076\ttotal: 5.93s\tremaining: 11.8s\n",
      "335:\tlearn: 0.4306437\ttotal: 5.94s\tremaining: 11.7s\n",
      "336:\tlearn: 0.4304453\ttotal: 5.96s\tremaining: 11.7s\n",
      "337:\tlearn: 0.4303073\ttotal: 5.97s\tremaining: 11.7s\n",
      "338:\tlearn: 0.4300837\ttotal: 5.99s\tremaining: 11.7s\n",
      "339:\tlearn: 0.4299442\ttotal: 6s\tremaining: 11.6s\n",
      "340:\tlearn: 0.4297883\ttotal: 6.01s\tremaining: 11.6s\n",
      "341:\tlearn: 0.4296557\ttotal: 6.02s\tremaining: 11.6s\n",
      "342:\tlearn: 0.4295263\ttotal: 6.03s\tremaining: 11.6s\n",
      "343:\tlearn: 0.4293669\ttotal: 6.05s\tremaining: 11.5s\n",
      "344:\tlearn: 0.4289341\ttotal: 6.07s\tremaining: 11.5s\n",
      "345:\tlearn: 0.4287543\ttotal: 6.11s\tremaining: 11.5s\n",
      "346:\tlearn: 0.4286205\ttotal: 6.12s\tremaining: 11.5s\n",
      "347:\tlearn: 0.4282367\ttotal: 6.13s\tremaining: 11.5s\n",
      "348:\tlearn: 0.4281120\ttotal: 6.15s\tremaining: 11.5s\n",
      "349:\tlearn: 0.4278533\ttotal: 6.16s\tremaining: 11.4s\n",
      "350:\tlearn: 0.4277448\ttotal: 6.17s\tremaining: 11.4s\n",
      "351:\tlearn: 0.4275154\ttotal: 6.19s\tremaining: 11.4s\n",
      "352:\tlearn: 0.4273200\ttotal: 6.2s\tremaining: 11.4s\n",
      "353:\tlearn: 0.4271464\ttotal: 6.21s\tremaining: 11.3s\n",
      "354:\tlearn: 0.4269401\ttotal: 6.22s\tremaining: 11.3s\n",
      "355:\tlearn: 0.4265952\ttotal: 6.24s\tremaining: 11.3s\n",
      "356:\tlearn: 0.4264888\ttotal: 6.25s\tremaining: 11.3s\n",
      "357:\tlearn: 0.4262993\ttotal: 6.26s\tremaining: 11.2s\n",
      "358:\tlearn: 0.4260981\ttotal: 6.3s\tremaining: 11.2s\n",
      "359:\tlearn: 0.4257535\ttotal: 6.31s\tremaining: 11.2s\n",
      "360:\tlearn: 0.4255116\ttotal: 6.32s\tremaining: 11.2s\n",
      "361:\tlearn: 0.4253893\ttotal: 6.33s\tremaining: 11.2s\n",
      "362:\tlearn: 0.4252891\ttotal: 6.35s\tremaining: 11.1s\n",
      "363:\tlearn: 0.4250992\ttotal: 6.36s\tremaining: 11.1s\n",
      "364:\tlearn: 0.4250004\ttotal: 6.37s\tremaining: 11.1s\n",
      "365:\tlearn: 0.4248214\ttotal: 6.38s\tremaining: 11.1s\n",
      "366:\tlearn: 0.4246704\ttotal: 6.4s\tremaining: 11s\n",
      "367:\tlearn: 0.4242503\ttotal: 6.41s\tremaining: 11s\n",
      "368:\tlearn: 0.4239086\ttotal: 6.42s\tremaining: 11s\n",
      "369:\tlearn: 0.4237500\ttotal: 6.43s\tremaining: 11s\n",
      "370:\tlearn: 0.4235079\ttotal: 6.44s\tremaining: 10.9s\n",
      "371:\tlearn: 0.4232133\ttotal: 6.47s\tremaining: 10.9s\n",
      "372:\tlearn: 0.4230251\ttotal: 6.48s\tremaining: 10.9s\n",
      "373:\tlearn: 0.4225024\ttotal: 6.5s\tremaining: 10.9s\n",
      "374:\tlearn: 0.4223375\ttotal: 6.51s\tremaining: 10.8s\n",
      "375:\tlearn: 0.4222278\ttotal: 6.52s\tremaining: 10.8s\n",
      "376:\tlearn: 0.4220233\ttotal: 6.53s\tremaining: 10.8s\n",
      "377:\tlearn: 0.4217587\ttotal: 6.55s\tremaining: 10.8s\n",
      "378:\tlearn: 0.4214157\ttotal: 6.56s\tremaining: 10.7s\n",
      "379:\tlearn: 0.4213191\ttotal: 6.57s\tremaining: 10.7s\n",
      "380:\tlearn: 0.4211418\ttotal: 6.58s\tremaining: 10.7s\n",
      "381:\tlearn: 0.4208986\ttotal: 6.6s\tremaining: 10.7s\n",
      "382:\tlearn: 0.4207006\ttotal: 6.61s\tremaining: 10.6s\n",
      "383:\tlearn: 0.4206045\ttotal: 6.62s\tremaining: 10.6s\n",
      "384:\tlearn: 0.4203505\ttotal: 6.66s\tremaining: 10.6s\n",
      "385:\tlearn: 0.4201675\ttotal: 6.67s\tremaining: 10.6s\n",
      "386:\tlearn: 0.4200609\ttotal: 6.68s\tremaining: 10.6s\n",
      "387:\tlearn: 0.4199249\ttotal: 6.69s\tremaining: 10.6s\n",
      "388:\tlearn: 0.4198261\ttotal: 6.71s\tremaining: 10.5s\n",
      "389:\tlearn: 0.4197192\ttotal: 6.72s\tremaining: 10.5s\n",
      "390:\tlearn: 0.4196129\ttotal: 6.73s\tremaining: 10.5s\n",
      "391:\tlearn: 0.4194416\ttotal: 6.74s\tremaining: 10.5s\n",
      "392:\tlearn: 0.4190663\ttotal: 6.75s\tremaining: 10.4s\n",
      "393:\tlearn: 0.4188458\ttotal: 6.77s\tremaining: 10.4s\n",
      "394:\tlearn: 0.4184454\ttotal: 6.78s\tremaining: 10.4s\n",
      "395:\tlearn: 0.4181972\ttotal: 6.79s\tremaining: 10.4s\n",
      "396:\tlearn: 0.4180398\ttotal: 6.8s\tremaining: 10.3s\n",
      "397:\tlearn: 0.4176424\ttotal: 6.84s\tremaining: 10.3s\n",
      "398:\tlearn: 0.4172057\ttotal: 6.85s\tremaining: 10.3s\n",
      "399:\tlearn: 0.4170921\ttotal: 6.87s\tremaining: 10.3s\n",
      "400:\tlearn: 0.4168271\ttotal: 6.88s\tremaining: 10.3s\n",
      "401:\tlearn: 0.4166577\ttotal: 6.89s\tremaining: 10.2s\n",
      "402:\tlearn: 0.4164831\ttotal: 6.9s\tremaining: 10.2s\n",
      "403:\tlearn: 0.4160759\ttotal: 6.91s\tremaining: 10.2s\n",
      "404:\tlearn: 0.4157176\ttotal: 6.92s\tremaining: 10.2s\n",
      "405:\tlearn: 0.4155921\ttotal: 6.94s\tremaining: 10.2s\n",
      "406:\tlearn: 0.4152616\ttotal: 6.95s\tremaining: 10.1s\n",
      "407:\tlearn: 0.4151564\ttotal: 6.97s\tremaining: 10.1s\n",
      "408:\tlearn: 0.4148572\ttotal: 6.98s\tremaining: 10.1s\n",
      "409:\tlearn: 0.4145640\ttotal: 7.01s\tremaining: 10.1s\n",
      "410:\tlearn: 0.4143898\ttotal: 7.03s\tremaining: 10.1s\n",
      "411:\tlearn: 0.4142731\ttotal: 7.04s\tremaining: 10.1s\n",
      "412:\tlearn: 0.4139589\ttotal: 7.05s\tremaining: 10s\n",
      "413:\tlearn: 0.4136622\ttotal: 7.07s\tremaining: 10s\n",
      "414:\tlearn: 0.4135210\ttotal: 7.08s\tremaining: 9.98s\n",
      "415:\tlearn: 0.4133746\ttotal: 7.09s\tremaining: 9.96s\n",
      "416:\tlearn: 0.4132187\ttotal: 7.1s\tremaining: 9.93s\n",
      "417:\tlearn: 0.4130677\ttotal: 7.12s\tremaining: 9.91s\n",
      "418:\tlearn: 0.4129684\ttotal: 7.13s\tremaining: 9.89s\n",
      "419:\tlearn: 0.4128412\ttotal: 7.14s\tremaining: 9.86s\n",
      "420:\tlearn: 0.4127247\ttotal: 7.15s\tremaining: 9.84s\n",
      "421:\tlearn: 0.4126068\ttotal: 7.19s\tremaining: 9.84s\n",
      "422:\tlearn: 0.4123386\ttotal: 7.2s\tremaining: 9.82s\n",
      "423:\tlearn: 0.4121977\ttotal: 7.21s\tremaining: 9.8s\n",
      "424:\tlearn: 0.4120668\ttotal: 7.23s\tremaining: 9.78s\n",
      "425:\tlearn: 0.4118780\ttotal: 7.24s\tremaining: 9.76s\n",
      "426:\tlearn: 0.4116327\ttotal: 7.25s\tremaining: 9.73s\n",
      "427:\tlearn: 0.4113540\ttotal: 7.27s\tremaining: 9.71s\n",
      "428:\tlearn: 0.4111398\ttotal: 7.28s\tremaining: 9.69s\n",
      "429:\tlearn: 0.4109895\ttotal: 7.29s\tremaining: 9.66s\n",
      "430:\tlearn: 0.4106113\ttotal: 7.3s\tremaining: 9.64s\n",
      "431:\tlearn: 0.4104946\ttotal: 7.32s\tremaining: 9.62s\n",
      "432:\tlearn: 0.4103790\ttotal: 7.33s\tremaining: 9.6s\n",
      "433:\tlearn: 0.4100129\ttotal: 7.34s\tremaining: 9.57s\n",
      "434:\tlearn: 0.4097891\ttotal: 7.38s\tremaining: 9.58s\n",
      "435:\tlearn: 0.4096786\ttotal: 7.39s\tremaining: 9.56s\n",
      "436:\tlearn: 0.4095314\ttotal: 7.41s\tremaining: 9.54s\n",
      "437:\tlearn: 0.4093611\ttotal: 7.42s\tremaining: 9.52s\n",
      "438:\tlearn: 0.4092353\ttotal: 7.43s\tremaining: 9.5s\n",
      "439:\tlearn: 0.4091540\ttotal: 7.46s\tremaining: 9.5s\n",
      "440:\tlearn: 0.4089325\ttotal: 7.48s\tremaining: 9.48s\n",
      "441:\tlearn: 0.4087476\ttotal: 7.49s\tremaining: 9.46s\n",
      "442:\tlearn: 0.4086373\ttotal: 7.5s\tremaining: 9.44s\n",
      "443:\tlearn: 0.4085295\ttotal: 7.52s\tremaining: 9.41s\n",
      "444:\tlearn: 0.4084155\ttotal: 7.57s\tremaining: 9.44s\n",
      "445:\tlearn: 0.4082928\ttotal: 7.58s\tremaining: 9.42s\n",
      "446:\tlearn: 0.4081368\ttotal: 7.6s\tremaining: 9.4s\n",
      "447:\tlearn: 0.4080475\ttotal: 7.61s\tremaining: 9.38s\n",
      "448:\tlearn: 0.4079304\ttotal: 7.63s\tremaining: 9.36s\n",
      "449:\tlearn: 0.4073694\ttotal: 7.65s\tremaining: 9.35s\n",
      "450:\tlearn: 0.4071932\ttotal: 7.66s\tremaining: 9.33s\n",
      "451:\tlearn: 0.4070977\ttotal: 7.68s\tremaining: 9.31s\n",
      "452:\tlearn: 0.4067380\ttotal: 7.69s\tremaining: 9.29s\n",
      "453:\tlearn: 0.4066432\ttotal: 7.71s\tremaining: 9.27s\n",
      "454:\tlearn: 0.4065173\ttotal: 7.76s\tremaining: 9.29s\n",
      "455:\tlearn: 0.4064259\ttotal: 7.77s\tremaining: 9.27s\n",
      "456:\tlearn: 0.4062881\ttotal: 7.79s\tremaining: 9.25s\n",
      "457:\tlearn: 0.4060401\ttotal: 7.8s\tremaining: 9.23s\n",
      "458:\tlearn: 0.4057638\ttotal: 7.81s\tremaining: 9.21s\n",
      "459:\tlearn: 0.4055638\ttotal: 7.84s\tremaining: 9.2s\n",
      "460:\tlearn: 0.4052419\ttotal: 7.85s\tremaining: 9.18s\n",
      "461:\tlearn: 0.4050252\ttotal: 7.87s\tremaining: 9.16s\n",
      "462:\tlearn: 0.4049140\ttotal: 7.88s\tremaining: 9.14s\n",
      "463:\tlearn: 0.4046633\ttotal: 7.92s\tremaining: 9.15s\n",
      "464:\tlearn: 0.4045207\ttotal: 7.96s\tremaining: 9.15s\n",
      "465:\tlearn: 0.4043146\ttotal: 7.97s\tremaining: 9.13s\n",
      "466:\tlearn: 0.4041938\ttotal: 7.99s\tremaining: 9.12s\n",
      "467:\tlearn: 0.4040848\ttotal: 8.02s\tremaining: 9.11s\n",
      "468:\tlearn: 0.4039298\ttotal: 8.03s\tremaining: 9.09s\n",
      "469:\tlearn: 0.4036560\ttotal: 8.05s\tremaining: 9.08s\n",
      "470:\tlearn: 0.4035076\ttotal: 8.07s\tremaining: 9.06s\n",
      "471:\tlearn: 0.4034239\ttotal: 8.11s\tremaining: 9.07s\n",
      "472:\tlearn: 0.4033376\ttotal: 8.13s\tremaining: 9.05s\n",
      "473:\tlearn: 0.4032213\ttotal: 8.14s\tremaining: 9.03s\n",
      "474:\tlearn: 0.4030786\ttotal: 8.16s\tremaining: 9.02s\n",
      "475:\tlearn: 0.4029409\ttotal: 8.18s\tremaining: 9s\n",
      "476:\tlearn: 0.4028411\ttotal: 8.19s\tremaining: 8.98s\n",
      "477:\tlearn: 0.4027290\ttotal: 8.2s\tremaining: 8.96s\n",
      "478:\tlearn: 0.4025916\ttotal: 8.22s\tremaining: 8.94s\n",
      "479:\tlearn: 0.4024462\ttotal: 8.25s\tremaining: 8.94s\n",
      "480:\tlearn: 0.4023509\ttotal: 8.27s\tremaining: 8.93s\n",
      "481:\tlearn: 0.4022617\ttotal: 8.32s\tremaining: 8.94s\n",
      "482:\tlearn: 0.4019536\ttotal: 8.35s\tremaining: 8.93s\n",
      "483:\tlearn: 0.4018143\ttotal: 8.36s\tremaining: 8.91s\n",
      "484:\tlearn: 0.4016844\ttotal: 8.37s\tremaining: 8.89s\n",
      "485:\tlearn: 0.4015507\ttotal: 8.39s\tremaining: 8.87s\n",
      "486:\tlearn: 0.4014424\ttotal: 8.41s\tremaining: 8.86s\n",
      "487:\tlearn: 0.4012606\ttotal: 8.44s\tremaining: 8.85s\n"
     ]
    },
    {
     "name": "stdout",
     "output_type": "stream",
     "text": [
      "488:\tlearn: 0.4009304\ttotal: 8.47s\tremaining: 8.85s\n",
      "489:\tlearn: 0.4008401\ttotal: 8.51s\tremaining: 8.86s\n",
      "490:\tlearn: 0.4006681\ttotal: 8.52s\tremaining: 8.83s\n",
      "491:\tlearn: 0.4005639\ttotal: 8.54s\tremaining: 8.82s\n",
      "492:\tlearn: 0.4004833\ttotal: 8.55s\tremaining: 8.8s\n",
      "493:\tlearn: 0.4003957\ttotal: 8.56s\tremaining: 8.77s\n",
      "494:\tlearn: 0.4002640\ttotal: 8.58s\tremaining: 8.75s\n",
      "495:\tlearn: 0.3999868\ttotal: 8.59s\tremaining: 8.73s\n",
      "496:\tlearn: 0.3998623\ttotal: 8.6s\tremaining: 8.71s\n",
      "497:\tlearn: 0.3997040\ttotal: 8.62s\tremaining: 8.69s\n",
      "498:\tlearn: 0.3996065\ttotal: 8.65s\tremaining: 8.68s\n",
      "499:\tlearn: 0.3994582\ttotal: 8.66s\tremaining: 8.66s\n",
      "500:\tlearn: 0.3993228\ttotal: 8.67s\tremaining: 8.64s\n",
      "501:\tlearn: 0.3992221\ttotal: 8.68s\tremaining: 8.61s\n",
      "502:\tlearn: 0.3991315\ttotal: 8.69s\tremaining: 8.59s\n",
      "503:\tlearn: 0.3990026\ttotal: 8.71s\tremaining: 8.57s\n",
      "504:\tlearn: 0.3988917\ttotal: 8.72s\tremaining: 8.54s\n",
      "505:\tlearn: 0.3987824\ttotal: 8.73s\tremaining: 8.52s\n",
      "506:\tlearn: 0.3985104\ttotal: 8.74s\tremaining: 8.5s\n",
      "507:\tlearn: 0.3983836\ttotal: 8.75s\tremaining: 8.48s\n",
      "508:\tlearn: 0.3976788\ttotal: 8.76s\tremaining: 8.45s\n",
      "509:\tlearn: 0.3976118\ttotal: 8.78s\tremaining: 8.43s\n",
      "510:\tlearn: 0.3973275\ttotal: 8.79s\tremaining: 8.41s\n",
      "511:\tlearn: 0.3971831\ttotal: 8.8s\tremaining: 8.38s\n",
      "512:\tlearn: 0.3970173\ttotal: 8.83s\tremaining: 8.38s\n",
      "513:\tlearn: 0.3968079\ttotal: 8.84s\tremaining: 8.36s\n",
      "514:\tlearn: 0.3967234\ttotal: 8.86s\tremaining: 8.34s\n",
      "515:\tlearn: 0.3965609\ttotal: 8.87s\tremaining: 8.32s\n",
      "516:\tlearn: 0.3963593\ttotal: 8.88s\tremaining: 8.29s\n",
      "517:\tlearn: 0.3962109\ttotal: 8.89s\tremaining: 8.27s\n",
      "518:\tlearn: 0.3961375\ttotal: 8.9s\tremaining: 8.25s\n",
      "519:\tlearn: 0.3958572\ttotal: 8.91s\tremaining: 8.23s\n",
      "520:\tlearn: 0.3956141\ttotal: 8.93s\tremaining: 8.21s\n",
      "521:\tlearn: 0.3954207\ttotal: 8.94s\tremaining: 8.18s\n",
      "522:\tlearn: 0.3952990\ttotal: 8.95s\tremaining: 8.16s\n",
      "523:\tlearn: 0.3951970\ttotal: 8.96s\tremaining: 8.14s\n",
      "524:\tlearn: 0.3950467\ttotal: 8.98s\tremaining: 8.12s\n",
      "525:\tlearn: 0.3948735\ttotal: 9.01s\tremaining: 8.12s\n",
      "526:\tlearn: 0.3946086\ttotal: 9.03s\tremaining: 8.1s\n",
      "527:\tlearn: 0.3943937\ttotal: 9.04s\tremaining: 8.08s\n",
      "528:\tlearn: 0.3942676\ttotal: 9.05s\tremaining: 8.06s\n",
      "529:\tlearn: 0.3941524\ttotal: 9.06s\tremaining: 8.04s\n",
      "530:\tlearn: 0.3940353\ttotal: 9.08s\tremaining: 8.02s\n",
      "531:\tlearn: 0.3939217\ttotal: 9.09s\tremaining: 8s\n",
      "532:\tlearn: 0.3937951\ttotal: 9.1s\tremaining: 7.97s\n",
      "533:\tlearn: 0.3936675\ttotal: 9.11s\tremaining: 7.95s\n",
      "534:\tlearn: 0.3935850\ttotal: 9.13s\tremaining: 7.93s\n",
      "535:\tlearn: 0.3933823\ttotal: 9.14s\tremaining: 7.91s\n",
      "536:\tlearn: 0.3933253\ttotal: 9.15s\tremaining: 7.89s\n",
      "537:\tlearn: 0.3932088\ttotal: 9.16s\tremaining: 7.87s\n",
      "538:\tlearn: 0.3930776\ttotal: 9.2s\tremaining: 7.87s\n",
      "539:\tlearn: 0.3928943\ttotal: 9.21s\tremaining: 7.85s\n",
      "540:\tlearn: 0.3928094\ttotal: 9.22s\tremaining: 7.83s\n",
      "541:\tlearn: 0.3927213\ttotal: 9.23s\tremaining: 7.8s\n",
      "542:\tlearn: 0.3926388\ttotal: 9.25s\tremaining: 7.78s\n",
      "543:\tlearn: 0.3925369\ttotal: 9.26s\tremaining: 7.76s\n",
      "544:\tlearn: 0.3923406\ttotal: 9.27s\tremaining: 7.74s\n",
      "545:\tlearn: 0.3921406\ttotal: 9.28s\tremaining: 7.72s\n",
      "546:\tlearn: 0.3919978\ttotal: 9.3s\tremaining: 7.7s\n",
      "547:\tlearn: 0.3918899\ttotal: 9.31s\tremaining: 7.68s\n",
      "548:\tlearn: 0.3917306\ttotal: 9.32s\tremaining: 7.66s\n",
      "549:\tlearn: 0.3916232\ttotal: 9.33s\tremaining: 7.64s\n",
      "550:\tlearn: 0.3912944\ttotal: 9.34s\tremaining: 7.61s\n",
      "551:\tlearn: 0.3912257\ttotal: 9.38s\tremaining: 7.61s\n",
      "552:\tlearn: 0.3911116\ttotal: 9.39s\tremaining: 7.59s\n",
      "553:\tlearn: 0.3909741\ttotal: 9.4s\tremaining: 7.57s\n",
      "554:\tlearn: 0.3908961\ttotal: 9.42s\tremaining: 7.55s\n",
      "555:\tlearn: 0.3907880\ttotal: 9.43s\tremaining: 7.53s\n",
      "556:\tlearn: 0.3906844\ttotal: 9.44s\tremaining: 7.51s\n",
      "557:\tlearn: 0.3904264\ttotal: 9.45s\tremaining: 7.49s\n",
      "558:\tlearn: 0.3903276\ttotal: 9.46s\tremaining: 7.47s\n",
      "559:\tlearn: 0.3902359\ttotal: 9.48s\tremaining: 7.45s\n",
      "560:\tlearn: 0.3901458\ttotal: 9.49s\tremaining: 7.42s\n",
      "561:\tlearn: 0.3900471\ttotal: 9.5s\tremaining: 7.41s\n",
      "562:\tlearn: 0.3899447\ttotal: 9.51s\tremaining: 7.38s\n",
      "563:\tlearn: 0.3897781\ttotal: 9.52s\tremaining: 7.36s\n",
      "564:\tlearn: 0.3896923\ttotal: 9.56s\tremaining: 7.36s\n",
      "565:\tlearn: 0.3895884\ttotal: 9.57s\tremaining: 7.34s\n",
      "566:\tlearn: 0.3894679\ttotal: 9.59s\tremaining: 7.32s\n",
      "567:\tlearn: 0.3893165\ttotal: 9.6s\tremaining: 7.3s\n",
      "568:\tlearn: 0.3891759\ttotal: 9.61s\tremaining: 7.28s\n",
      "569:\tlearn: 0.3890808\ttotal: 9.63s\tremaining: 7.26s\n",
      "570:\tlearn: 0.3889712\ttotal: 9.64s\tremaining: 7.25s\n",
      "571:\tlearn: 0.3888496\ttotal: 9.66s\tremaining: 7.23s\n",
      "572:\tlearn: 0.3887284\ttotal: 9.67s\tremaining: 7.21s\n",
      "573:\tlearn: 0.3886609\ttotal: 9.68s\tremaining: 7.19s\n",
      "574:\tlearn: 0.3885921\ttotal: 9.71s\tremaining: 7.18s\n",
      "575:\tlearn: 0.3885333\ttotal: 9.73s\tremaining: 7.17s\n",
      "576:\tlearn: 0.3884103\ttotal: 9.76s\tremaining: 7.15s\n",
      "577:\tlearn: 0.3879967\ttotal: 9.77s\tremaining: 7.13s\n",
      "578:\tlearn: 0.3877157\ttotal: 9.78s\tremaining: 7.11s\n",
      "579:\tlearn: 0.3875809\ttotal: 9.79s\tremaining: 7.09s\n",
      "580:\tlearn: 0.3873634\ttotal: 9.81s\tremaining: 7.07s\n",
      "581:\tlearn: 0.3872214\ttotal: 9.82s\tremaining: 7.05s\n",
      "582:\tlearn: 0.3871323\ttotal: 9.83s\tremaining: 7.03s\n",
      "583:\tlearn: 0.3869354\ttotal: 9.85s\tremaining: 7.01s\n",
      "584:\tlearn: 0.3868526\ttotal: 9.86s\tremaining: 6.99s\n",
      "585:\tlearn: 0.3867160\ttotal: 9.87s\tremaining: 6.97s\n",
      "586:\tlearn: 0.3865870\ttotal: 9.88s\tremaining: 6.95s\n",
      "587:\tlearn: 0.3864669\ttotal: 9.9s\tremaining: 6.93s\n",
      "588:\tlearn: 0.3863841\ttotal: 9.91s\tremaining: 6.91s\n",
      "589:\tlearn: 0.3863080\ttotal: 9.95s\tremaining: 6.91s\n",
      "590:\tlearn: 0.3862429\ttotal: 9.96s\tremaining: 6.89s\n",
      "591:\tlearn: 0.3859884\ttotal: 9.97s\tremaining: 6.87s\n",
      "592:\tlearn: 0.3858380\ttotal: 9.99s\tremaining: 6.86s\n",
      "593:\tlearn: 0.3857012\ttotal: 10s\tremaining: 6.83s\n",
      "594:\tlearn: 0.3855420\ttotal: 10s\tremaining: 6.82s\n",
      "595:\tlearn: 0.3853347\ttotal: 10s\tremaining: 6.81s\n",
      "596:\tlearn: 0.3852172\ttotal: 10.1s\tremaining: 6.79s\n",
      "597:\tlearn: 0.3851220\ttotal: 10.1s\tremaining: 6.78s\n",
      "598:\tlearn: 0.3848687\ttotal: 10.1s\tremaining: 6.76s\n",
      "599:\tlearn: 0.3847724\ttotal: 10.1s\tremaining: 6.75s\n",
      "600:\tlearn: 0.3845659\ttotal: 10.1s\tremaining: 6.74s\n",
      "601:\tlearn: 0.3844821\ttotal: 10.2s\tremaining: 6.71s\n",
      "602:\tlearn: 0.3843106\ttotal: 10.2s\tremaining: 6.7s\n",
      "603:\tlearn: 0.3842216\ttotal: 10.2s\tremaining: 6.68s\n",
      "604:\tlearn: 0.3840008\ttotal: 10.2s\tremaining: 6.66s\n",
      "605:\tlearn: 0.3836745\ttotal: 10.2s\tremaining: 6.64s\n",
      "606:\tlearn: 0.3835696\ttotal: 10.2s\tremaining: 6.62s\n",
      "607:\tlearn: 0.3835023\ttotal: 10.2s\tremaining: 6.6s\n",
      "608:\tlearn: 0.3833930\ttotal: 10.3s\tremaining: 6.59s\n",
      "609:\tlearn: 0.3832144\ttotal: 10.3s\tremaining: 6.58s\n",
      "610:\tlearn: 0.3830562\ttotal: 10.3s\tremaining: 6.56s\n",
      "611:\tlearn: 0.3829802\ttotal: 10.3s\tremaining: 6.54s\n",
      "612:\tlearn: 0.3828460\ttotal: 10.3s\tremaining: 6.53s\n",
      "613:\tlearn: 0.3826081\ttotal: 10.4s\tremaining: 6.51s\n",
      "614:\tlearn: 0.3822687\ttotal: 10.4s\tremaining: 6.5s\n",
      "615:\tlearn: 0.3821613\ttotal: 10.4s\tremaining: 6.48s\n",
      "616:\tlearn: 0.3820636\ttotal: 10.4s\tremaining: 6.46s\n",
      "617:\tlearn: 0.3819293\ttotal: 10.4s\tremaining: 6.44s\n",
      "618:\tlearn: 0.3817808\ttotal: 10.4s\tremaining: 6.42s\n",
      "619:\tlearn: 0.3817152\ttotal: 10.4s\tremaining: 6.4s\n",
      "620:\tlearn: 0.3816383\ttotal: 10.5s\tremaining: 6.39s\n",
      "621:\tlearn: 0.3815371\ttotal: 10.5s\tremaining: 6.38s\n",
      "622:\tlearn: 0.3814704\ttotal: 10.5s\tremaining: 6.37s\n",
      "623:\tlearn: 0.3813113\ttotal: 10.5s\tremaining: 6.35s\n",
      "624:\tlearn: 0.3812164\ttotal: 10.6s\tremaining: 6.34s\n",
      "625:\tlearn: 0.3811575\ttotal: 10.6s\tremaining: 6.32s\n",
      "626:\tlearn: 0.3810376\ttotal: 10.6s\tremaining: 6.3s\n",
      "627:\tlearn: 0.3808654\ttotal: 10.6s\tremaining: 6.28s\n",
      "628:\tlearn: 0.3807481\ttotal: 10.6s\tremaining: 6.27s\n",
      "629:\tlearn: 0.3805512\ttotal: 10.7s\tremaining: 6.26s\n",
      "630:\tlearn: 0.3804704\ttotal: 10.7s\tremaining: 6.25s\n",
      "631:\tlearn: 0.3803480\ttotal: 10.7s\tremaining: 6.23s\n",
      "632:\tlearn: 0.3802615\ttotal: 10.7s\tremaining: 6.21s\n",
      "633:\tlearn: 0.3801399\ttotal: 10.7s\tremaining: 6.2s\n",
      "634:\tlearn: 0.3800720\ttotal: 10.7s\tremaining: 6.18s\n",
      "635:\tlearn: 0.3799345\ttotal: 10.8s\tremaining: 6.16s\n",
      "636:\tlearn: 0.3796868\ttotal: 10.8s\tremaining: 6.14s\n",
      "637:\tlearn: 0.3796158\ttotal: 10.8s\tremaining: 6.12s\n",
      "638:\tlearn: 0.3793946\ttotal: 10.8s\tremaining: 6.1s\n",
      "639:\tlearn: 0.3791300\ttotal: 10.8s\tremaining: 6.09s\n",
      "640:\tlearn: 0.3789983\ttotal: 10.9s\tremaining: 6.08s\n",
      "641:\tlearn: 0.3788610\ttotal: 10.9s\tremaining: 6.06s\n",
      "642:\tlearn: 0.3787862\ttotal: 10.9s\tremaining: 6.04s\n",
      "643:\tlearn: 0.3786944\ttotal: 10.9s\tremaining: 6.02s\n",
      "644:\tlearn: 0.3786228\ttotal: 10.9s\tremaining: 6s\n",
      "645:\tlearn: 0.3785194\ttotal: 10.9s\tremaining: 5.98s\n",
      "646:\tlearn: 0.3784386\ttotal: 10.9s\tremaining: 5.96s\n",
      "647:\tlearn: 0.3783364\ttotal: 10.9s\tremaining: 5.94s\n",
      "648:\tlearn: 0.3782229\ttotal: 11s\tremaining: 5.92s\n",
      "649:\tlearn: 0.3780672\ttotal: 11s\tremaining: 5.9s\n",
      "650:\tlearn: 0.3779511\ttotal: 11s\tremaining: 5.88s\n",
      "651:\tlearn: 0.3778556\ttotal: 11s\tremaining: 5.87s\n"
     ]
    },
    {
     "name": "stdout",
     "output_type": "stream",
     "text": [
      "652:\tlearn: 0.3777458\ttotal: 11s\tremaining: 5.85s\n",
      "653:\tlearn: 0.3776584\ttotal: 11s\tremaining: 5.84s\n",
      "654:\tlearn: 0.3775408\ttotal: 11.1s\tremaining: 5.82s\n",
      "655:\tlearn: 0.3774669\ttotal: 11.1s\tremaining: 5.8s\n",
      "656:\tlearn: 0.3773348\ttotal: 11.1s\tremaining: 5.79s\n",
      "657:\tlearn: 0.3772325\ttotal: 11.1s\tremaining: 5.76s\n",
      "658:\tlearn: 0.3771409\ttotal: 11.1s\tremaining: 5.75s\n",
      "659:\tlearn: 0.3770672\ttotal: 11.1s\tremaining: 5.73s\n",
      "660:\tlearn: 0.3769849\ttotal: 11.1s\tremaining: 5.71s\n",
      "661:\tlearn: 0.3769343\ttotal: 11.1s\tremaining: 5.69s\n",
      "662:\tlearn: 0.3768551\ttotal: 11.2s\tremaining: 5.67s\n",
      "663:\tlearn: 0.3767393\ttotal: 11.2s\tremaining: 5.65s\n",
      "664:\tlearn: 0.3766028\ttotal: 11.2s\tremaining: 5.64s\n",
      "665:\tlearn: 0.3765454\ttotal: 11.2s\tremaining: 5.62s\n",
      "666:\tlearn: 0.3764787\ttotal: 11.2s\tremaining: 5.6s\n",
      "667:\tlearn: 0.3763954\ttotal: 11.2s\tremaining: 5.58s\n",
      "668:\tlearn: 0.3763087\ttotal: 11.2s\tremaining: 5.56s\n",
      "669:\tlearn: 0.3762112\ttotal: 11.3s\tremaining: 5.54s\n",
      "670:\tlearn: 0.3758508\ttotal: 11.3s\tremaining: 5.52s\n",
      "671:\tlearn: 0.3757326\ttotal: 11.3s\tremaining: 5.5s\n",
      "672:\tlearn: 0.3756691\ttotal: 11.3s\tremaining: 5.49s\n",
      "673:\tlearn: 0.3754874\ttotal: 11.3s\tremaining: 5.47s\n",
      "674:\tlearn: 0.3754031\ttotal: 11.3s\tremaining: 5.45s\n",
      "675:\tlearn: 0.3753174\ttotal: 11.3s\tremaining: 5.43s\n",
      "676:\tlearn: 0.3752502\ttotal: 11.3s\tremaining: 5.41s\n",
      "677:\tlearn: 0.3749269\ttotal: 11.3s\tremaining: 5.39s\n",
      "678:\tlearn: 0.3748680\ttotal: 11.4s\tremaining: 5.38s\n",
      "679:\tlearn: 0.3747946\ttotal: 11.4s\tremaining: 5.36s\n",
      "680:\tlearn: 0.3745627\ttotal: 11.4s\tremaining: 5.34s\n",
      "681:\tlearn: 0.3744437\ttotal: 11.4s\tremaining: 5.33s\n",
      "682:\tlearn: 0.3742208\ttotal: 11.4s\tremaining: 5.31s\n",
      "683:\tlearn: 0.3741680\ttotal: 11.4s\tremaining: 5.29s\n",
      "684:\tlearn: 0.3740558\ttotal: 11.5s\tremaining: 5.27s\n",
      "685:\tlearn: 0.3739836\ttotal: 11.5s\tremaining: 5.25s\n",
      "686:\tlearn: 0.3738188\ttotal: 11.5s\tremaining: 5.23s\n",
      "687:\tlearn: 0.3737154\ttotal: 11.5s\tremaining: 5.21s\n",
      "688:\tlearn: 0.3736351\ttotal: 11.5s\tremaining: 5.19s\n",
      "689:\tlearn: 0.3734849\ttotal: 11.5s\tremaining: 5.17s\n",
      "690:\tlearn: 0.3733824\ttotal: 11.5s\tremaining: 5.16s\n",
      "691:\tlearn: 0.3729887\ttotal: 11.5s\tremaining: 5.14s\n",
      "692:\tlearn: 0.3729249\ttotal: 11.6s\tremaining: 5.12s\n",
      "693:\tlearn: 0.3728765\ttotal: 11.6s\tremaining: 5.11s\n",
      "694:\tlearn: 0.3727997\ttotal: 11.6s\tremaining: 5.09s\n",
      "695:\tlearn: 0.3727014\ttotal: 11.6s\tremaining: 5.07s\n",
      "696:\tlearn: 0.3726033\ttotal: 11.6s\tremaining: 5.06s\n",
      "697:\tlearn: 0.3724416\ttotal: 11.6s\tremaining: 5.04s\n",
      "698:\tlearn: 0.3721496\ttotal: 11.7s\tremaining: 5.02s\n",
      "699:\tlearn: 0.3720067\ttotal: 11.7s\tremaining: 5s\n",
      "700:\tlearn: 0.3719111\ttotal: 11.7s\tremaining: 4.98s\n",
      "701:\tlearn: 0.3717154\ttotal: 11.7s\tremaining: 4.96s\n",
      "702:\tlearn: 0.3716316\ttotal: 11.7s\tremaining: 4.95s\n",
      "703:\tlearn: 0.3715138\ttotal: 11.7s\tremaining: 4.93s\n",
      "704:\tlearn: 0.3714476\ttotal: 11.7s\tremaining: 4.91s\n",
      "705:\tlearn: 0.3713500\ttotal: 11.7s\tremaining: 4.89s\n",
      "706:\tlearn: 0.3712900\ttotal: 11.8s\tremaining: 4.87s\n",
      "707:\tlearn: 0.3711812\ttotal: 11.8s\tremaining: 4.85s\n",
      "708:\tlearn: 0.3710833\ttotal: 11.8s\tremaining: 4.84s\n",
      "709:\tlearn: 0.3710097\ttotal: 11.8s\tremaining: 4.82s\n",
      "710:\tlearn: 0.3709044\ttotal: 11.8s\tremaining: 4.81s\n",
      "711:\tlearn: 0.3707877\ttotal: 11.8s\tremaining: 4.79s\n",
      "712:\tlearn: 0.3706927\ttotal: 11.8s\tremaining: 4.77s\n",
      "713:\tlearn: 0.3706229\ttotal: 11.9s\tremaining: 4.75s\n",
      "714:\tlearn: 0.3705549\ttotal: 11.9s\tremaining: 4.73s\n",
      "715:\tlearn: 0.3704611\ttotal: 11.9s\tremaining: 4.71s\n",
      "716:\tlearn: 0.3703809\ttotal: 11.9s\tremaining: 4.7s\n",
      "717:\tlearn: 0.3703033\ttotal: 11.9s\tremaining: 4.68s\n",
      "718:\tlearn: 0.3701818\ttotal: 11.9s\tremaining: 4.66s\n",
      "719:\tlearn: 0.3700764\ttotal: 11.9s\tremaining: 4.64s\n",
      "720:\tlearn: 0.3700035\ttotal: 11.9s\tremaining: 4.62s\n",
      "721:\tlearn: 0.3699185\ttotal: 12s\tremaining: 4.61s\n",
      "722:\tlearn: 0.3695961\ttotal: 12s\tremaining: 4.6s\n",
      "723:\tlearn: 0.3695373\ttotal: 12s\tremaining: 4.58s\n",
      "724:\tlearn: 0.3693716\ttotal: 12s\tremaining: 4.56s\n",
      "725:\tlearn: 0.3693094\ttotal: 12s\tremaining: 4.54s\n",
      "726:\tlearn: 0.3692473\ttotal: 12s\tremaining: 4.52s\n",
      "727:\tlearn: 0.3691691\ttotal: 12.1s\tremaining: 4.5s\n",
      "728:\tlearn: 0.3691181\ttotal: 12.1s\tremaining: 4.49s\n",
      "729:\tlearn: 0.3689945\ttotal: 12.1s\tremaining: 4.47s\n",
      "730:\tlearn: 0.3688619\ttotal: 12.1s\tremaining: 4.45s\n",
      "731:\tlearn: 0.3687462\ttotal: 12.1s\tremaining: 4.43s\n",
      "732:\tlearn: 0.3686502\ttotal: 12.1s\tremaining: 4.42s\n",
      "733:\tlearn: 0.3685313\ttotal: 12.1s\tremaining: 4.4s\n",
      "734:\tlearn: 0.3683446\ttotal: 12.2s\tremaining: 4.39s\n",
      "735:\tlearn: 0.3682563\ttotal: 12.2s\tremaining: 4.37s\n",
      "736:\tlearn: 0.3681581\ttotal: 12.2s\tremaining: 4.35s\n",
      "737:\tlearn: 0.3680250\ttotal: 12.2s\tremaining: 4.33s\n",
      "738:\tlearn: 0.3679247\ttotal: 12.2s\tremaining: 4.32s\n",
      "739:\tlearn: 0.3677321\ttotal: 12.2s\tremaining: 4.3s\n",
      "740:\tlearn: 0.3676626\ttotal: 12.2s\tremaining: 4.28s\n",
      "741:\tlearn: 0.3675735\ttotal: 12.3s\tremaining: 4.26s\n",
      "742:\tlearn: 0.3674762\ttotal: 12.3s\tremaining: 4.25s\n",
      "743:\tlearn: 0.3674008\ttotal: 12.3s\tremaining: 4.23s\n",
      "744:\tlearn: 0.3673037\ttotal: 12.3s\tremaining: 4.21s\n",
      "745:\tlearn: 0.3672036\ttotal: 12.3s\tremaining: 4.19s\n",
      "746:\tlearn: 0.3671713\ttotal: 12.3s\tremaining: 4.18s\n",
      "747:\tlearn: 0.3670719\ttotal: 12.4s\tremaining: 4.16s\n",
      "748:\tlearn: 0.3669159\ttotal: 12.4s\tremaining: 4.14s\n",
      "749:\tlearn: 0.3667750\ttotal: 12.4s\tremaining: 4.13s\n",
      "750:\tlearn: 0.3666622\ttotal: 12.4s\tremaining: 4.11s\n",
      "751:\tlearn: 0.3665918\ttotal: 12.4s\tremaining: 4.09s\n",
      "752:\tlearn: 0.3664842\ttotal: 12.4s\tremaining: 4.07s\n",
      "753:\tlearn: 0.3663345\ttotal: 12.4s\tremaining: 4.05s\n",
      "754:\tlearn: 0.3662718\ttotal: 12.4s\tremaining: 4.04s\n",
      "755:\tlearn: 0.3661926\ttotal: 12.5s\tremaining: 4.02s\n",
      "756:\tlearn: 0.3661097\ttotal: 12.5s\tremaining: 4s\n",
      "757:\tlearn: 0.3660056\ttotal: 12.5s\tremaining: 3.98s\n",
      "758:\tlearn: 0.3659451\ttotal: 12.5s\tremaining: 3.96s\n",
      "759:\tlearn: 0.3658423\ttotal: 12.5s\tremaining: 3.96s\n",
      "760:\tlearn: 0.3657553\ttotal: 12.5s\tremaining: 3.94s\n",
      "761:\tlearn: 0.3656748\ttotal: 12.6s\tremaining: 3.92s\n",
      "762:\tlearn: 0.3655649\ttotal: 12.6s\tremaining: 3.9s\n",
      "763:\tlearn: 0.3654633\ttotal: 12.6s\tremaining: 3.88s\n",
      "764:\tlearn: 0.3653737\ttotal: 12.6s\tremaining: 3.87s\n",
      "765:\tlearn: 0.3651778\ttotal: 12.6s\tremaining: 3.85s\n",
      "766:\tlearn: 0.3650893\ttotal: 12.6s\tremaining: 3.83s\n",
      "767:\tlearn: 0.3648895\ttotal: 12.6s\tremaining: 3.81s\n",
      "768:\tlearn: 0.3648262\ttotal: 12.6s\tremaining: 3.79s\n",
      "769:\tlearn: 0.3646892\ttotal: 12.6s\tremaining: 3.78s\n",
      "770:\tlearn: 0.3646366\ttotal: 12.7s\tremaining: 3.76s\n",
      "771:\tlearn: 0.3645474\ttotal: 12.7s\tremaining: 3.74s\n",
      "772:\tlearn: 0.3644374\ttotal: 12.7s\tremaining: 3.73s\n",
      "773:\tlearn: 0.3642967\ttotal: 12.7s\tremaining: 3.71s\n",
      "774:\tlearn: 0.3641933\ttotal: 12.7s\tremaining: 3.7s\n",
      "775:\tlearn: 0.3641311\ttotal: 12.7s\tremaining: 3.68s\n",
      "776:\tlearn: 0.3640333\ttotal: 12.8s\tremaining: 3.66s\n",
      "777:\tlearn: 0.3639233\ttotal: 12.8s\tremaining: 3.64s\n",
      "778:\tlearn: 0.3637529\ttotal: 12.8s\tremaining: 3.63s\n",
      "779:\tlearn: 0.3636797\ttotal: 12.8s\tremaining: 3.61s\n",
      "780:\tlearn: 0.3634908\ttotal: 12.8s\tremaining: 3.59s\n",
      "781:\tlearn: 0.3633189\ttotal: 12.8s\tremaining: 3.57s\n",
      "782:\tlearn: 0.3631536\ttotal: 12.8s\tremaining: 3.55s\n",
      "783:\tlearn: 0.3630911\ttotal: 12.8s\tremaining: 3.54s\n",
      "784:\tlearn: 0.3630426\ttotal: 12.9s\tremaining: 3.52s\n",
      "785:\tlearn: 0.3629733\ttotal: 12.9s\tremaining: 3.51s\n",
      "786:\tlearn: 0.3628910\ttotal: 12.9s\tremaining: 3.49s\n",
      "787:\tlearn: 0.3626950\ttotal: 12.9s\tremaining: 3.48s\n",
      "788:\tlearn: 0.3626116\ttotal: 12.9s\tremaining: 3.46s\n",
      "789:\tlearn: 0.3625045\ttotal: 12.9s\tremaining: 3.44s\n",
      "790:\tlearn: 0.3624085\ttotal: 13s\tremaining: 3.42s\n",
      "791:\tlearn: 0.3623082\ttotal: 13s\tremaining: 3.41s\n",
      "792:\tlearn: 0.3622376\ttotal: 13s\tremaining: 3.39s\n",
      "793:\tlearn: 0.3621389\ttotal: 13s\tremaining: 3.37s\n",
      "794:\tlearn: 0.3620536\ttotal: 13s\tremaining: 3.35s\n",
      "795:\tlearn: 0.3618342\ttotal: 13s\tremaining: 3.34s\n",
      "796:\tlearn: 0.3617648\ttotal: 13s\tremaining: 3.32s\n",
      "797:\tlearn: 0.3616093\ttotal: 13.1s\tremaining: 3.31s\n",
      "798:\tlearn: 0.3615148\ttotal: 13.1s\tremaining: 3.29s\n",
      "799:\tlearn: 0.3613805\ttotal: 13.1s\tremaining: 3.27s\n",
      "800:\tlearn: 0.3613012\ttotal: 13.1s\tremaining: 3.26s\n",
      "801:\tlearn: 0.3610432\ttotal: 13.1s\tremaining: 3.24s\n",
      "802:\tlearn: 0.3609458\ttotal: 13.1s\tremaining: 3.22s\n",
      "803:\tlearn: 0.3608920\ttotal: 13.1s\tremaining: 3.2s\n",
      "804:\tlearn: 0.3608300\ttotal: 13.2s\tremaining: 3.19s\n",
      "805:\tlearn: 0.3607678\ttotal: 13.2s\tremaining: 3.17s\n",
      "806:\tlearn: 0.3607183\ttotal: 13.2s\tremaining: 3.15s\n",
      "807:\tlearn: 0.3606315\ttotal: 13.2s\tremaining: 3.14s\n",
      "808:\tlearn: 0.3605574\ttotal: 13.2s\tremaining: 3.12s\n",
      "809:\tlearn: 0.3604735\ttotal: 13.2s\tremaining: 3.1s\n",
      "810:\tlearn: 0.3602306\ttotal: 13.3s\tremaining: 3.09s\n",
      "811:\tlearn: 0.3600918\ttotal: 13.3s\tremaining: 3.07s\n",
      "812:\tlearn: 0.3600146\ttotal: 13.3s\tremaining: 3.06s\n",
      "813:\tlearn: 0.3598767\ttotal: 13.3s\tremaining: 3.04s\n",
      "814:\tlearn: 0.3597900\ttotal: 13.3s\tremaining: 3.02s\n",
      "815:\tlearn: 0.3597486\ttotal: 13.3s\tremaining: 3s\n",
      "816:\tlearn: 0.3596889\ttotal: 13.3s\tremaining: 2.99s\n",
      "817:\tlearn: 0.3596061\ttotal: 13.4s\tremaining: 2.97s\n",
      "818:\tlearn: 0.3594701\ttotal: 13.4s\tremaining: 2.96s\n",
      "819:\tlearn: 0.3593973\ttotal: 13.4s\tremaining: 2.94s\n"
     ]
    },
    {
     "name": "stdout",
     "output_type": "stream",
     "text": [
      "820:\tlearn: 0.3593177\ttotal: 13.4s\tremaining: 2.93s\n",
      "821:\tlearn: 0.3592691\ttotal: 13.5s\tremaining: 2.92s\n",
      "822:\tlearn: 0.3591990\ttotal: 13.5s\tremaining: 2.9s\n",
      "823:\tlearn: 0.3590974\ttotal: 13.5s\tremaining: 2.89s\n",
      "824:\tlearn: 0.3590289\ttotal: 13.6s\tremaining: 2.88s\n",
      "825:\tlearn: 0.3589749\ttotal: 13.6s\tremaining: 2.86s\n",
      "826:\tlearn: 0.3589072\ttotal: 13.6s\tremaining: 2.85s\n",
      "827:\tlearn: 0.3587857\ttotal: 13.7s\tremaining: 2.84s\n",
      "828:\tlearn: 0.3587167\ttotal: 13.7s\tremaining: 2.82s\n",
      "829:\tlearn: 0.3586645\ttotal: 13.7s\tremaining: 2.8s\n",
      "830:\tlearn: 0.3585282\ttotal: 13.7s\tremaining: 2.79s\n",
      "831:\tlearn: 0.3584682\ttotal: 13.7s\tremaining: 2.77s\n",
      "832:\tlearn: 0.3584151\ttotal: 13.7s\tremaining: 2.75s\n",
      "833:\tlearn: 0.3583182\ttotal: 13.8s\tremaining: 2.74s\n",
      "834:\tlearn: 0.3582707\ttotal: 13.8s\tremaining: 2.72s\n",
      "835:\tlearn: 0.3582116\ttotal: 13.8s\tremaining: 2.7s\n",
      "836:\tlearn: 0.3581483\ttotal: 13.8s\tremaining: 2.69s\n",
      "837:\tlearn: 0.3580614\ttotal: 13.8s\tremaining: 2.67s\n",
      "838:\tlearn: 0.3580054\ttotal: 13.9s\tremaining: 2.66s\n",
      "839:\tlearn: 0.3579522\ttotal: 13.9s\tremaining: 2.64s\n",
      "840:\tlearn: 0.3578637\ttotal: 13.9s\tremaining: 2.63s\n",
      "841:\tlearn: 0.3577520\ttotal: 13.9s\tremaining: 2.61s\n",
      "842:\tlearn: 0.3576970\ttotal: 13.9s\tremaining: 2.59s\n",
      "843:\tlearn: 0.3576304\ttotal: 14s\tremaining: 2.58s\n",
      "844:\tlearn: 0.3575575\ttotal: 14s\tremaining: 2.56s\n",
      "845:\tlearn: 0.3574818\ttotal: 14s\tremaining: 2.55s\n",
      "846:\tlearn: 0.3574227\ttotal: 14s\tremaining: 2.53s\n",
      "847:\tlearn: 0.3573313\ttotal: 14s\tremaining: 2.52s\n",
      "848:\tlearn: 0.3572667\ttotal: 14.1s\tremaining: 2.5s\n",
      "849:\tlearn: 0.3571821\ttotal: 14.1s\tremaining: 2.49s\n",
      "850:\tlearn: 0.3570488\ttotal: 14.1s\tremaining: 2.47s\n",
      "851:\tlearn: 0.3569620\ttotal: 14.1s\tremaining: 2.46s\n",
      "852:\tlearn: 0.3568938\ttotal: 14.2s\tremaining: 2.44s\n",
      "853:\tlearn: 0.3568476\ttotal: 14.2s\tremaining: 2.43s\n",
      "854:\tlearn: 0.3567624\ttotal: 14.2s\tremaining: 2.41s\n",
      "855:\tlearn: 0.3566612\ttotal: 14.2s\tremaining: 2.39s\n",
      "856:\tlearn: 0.3565690\ttotal: 14.2s\tremaining: 2.38s\n",
      "857:\tlearn: 0.3565257\ttotal: 14.3s\tremaining: 2.36s\n",
      "858:\tlearn: 0.3564507\ttotal: 14.3s\tremaining: 2.35s\n",
      "859:\tlearn: 0.3563542\ttotal: 14.3s\tremaining: 2.33s\n",
      "860:\tlearn: 0.3562433\ttotal: 14.3s\tremaining: 2.31s\n",
      "861:\tlearn: 0.3561771\ttotal: 14.3s\tremaining: 2.29s\n",
      "862:\tlearn: 0.3561204\ttotal: 14.4s\tremaining: 2.28s\n",
      "863:\tlearn: 0.3558758\ttotal: 14.4s\tremaining: 2.26s\n",
      "864:\tlearn: 0.3556846\ttotal: 14.4s\tremaining: 2.25s\n",
      "865:\tlearn: 0.3556331\ttotal: 14.4s\tremaining: 2.23s\n",
      "866:\tlearn: 0.3555320\ttotal: 14.4s\tremaining: 2.22s\n",
      "867:\tlearn: 0.3554184\ttotal: 14.5s\tremaining: 2.2s\n",
      "868:\tlearn: 0.3553232\ttotal: 14.5s\tremaining: 2.18s\n",
      "869:\tlearn: 0.3552391\ttotal: 14.5s\tremaining: 2.17s\n",
      "870:\tlearn: 0.3551879\ttotal: 14.5s\tremaining: 2.15s\n",
      "871:\tlearn: 0.3550976\ttotal: 14.6s\tremaining: 2.14s\n",
      "872:\tlearn: 0.3548802\ttotal: 14.6s\tremaining: 2.12s\n",
      "873:\tlearn: 0.3548015\ttotal: 14.6s\tremaining: 2.11s\n",
      "874:\tlearn: 0.3547087\ttotal: 14.6s\tremaining: 2.09s\n",
      "875:\tlearn: 0.3546502\ttotal: 14.6s\tremaining: 2.07s\n",
      "876:\tlearn: 0.3545370\ttotal: 14.6s\tremaining: 2.05s\n",
      "877:\tlearn: 0.3544767\ttotal: 14.7s\tremaining: 2.04s\n",
      "878:\tlearn: 0.3543895\ttotal: 14.7s\tremaining: 2.02s\n",
      "879:\tlearn: 0.3543473\ttotal: 14.7s\tremaining: 2s\n",
      "880:\tlearn: 0.3542689\ttotal: 14.7s\tremaining: 1.99s\n",
      "881:\tlearn: 0.3542083\ttotal: 14.7s\tremaining: 1.97s\n",
      "882:\tlearn: 0.3541306\ttotal: 14.8s\tremaining: 1.95s\n",
      "883:\tlearn: 0.3540398\ttotal: 14.8s\tremaining: 1.94s\n",
      "884:\tlearn: 0.3539537\ttotal: 14.8s\tremaining: 1.92s\n",
      "885:\tlearn: 0.3538837\ttotal: 14.8s\tremaining: 1.9s\n",
      "886:\tlearn: 0.3538138\ttotal: 14.8s\tremaining: 1.89s\n",
      "887:\tlearn: 0.3537414\ttotal: 14.8s\tremaining: 1.87s\n",
      "888:\tlearn: 0.3536405\ttotal: 14.8s\tremaining: 1.85s\n",
      "889:\tlearn: 0.3535935\ttotal: 14.8s\tremaining: 1.83s\n",
      "890:\tlearn: 0.3535287\ttotal: 14.9s\tremaining: 1.82s\n",
      "891:\tlearn: 0.3534750\ttotal: 14.9s\tremaining: 1.8s\n",
      "892:\tlearn: 0.3534151\ttotal: 14.9s\tremaining: 1.78s\n",
      "893:\tlearn: 0.3533653\ttotal: 14.9s\tremaining: 1.76s\n",
      "894:\tlearn: 0.3533186\ttotal: 14.9s\tremaining: 1.75s\n",
      "895:\tlearn: 0.3532524\ttotal: 14.9s\tremaining: 1.73s\n",
      "896:\tlearn: 0.3530427\ttotal: 15s\tremaining: 1.72s\n",
      "897:\tlearn: 0.3529781\ttotal: 15s\tremaining: 1.7s\n",
      "898:\tlearn: 0.3529379\ttotal: 15s\tremaining: 1.68s\n",
      "899:\tlearn: 0.3528594\ttotal: 15s\tremaining: 1.67s\n",
      "900:\tlearn: 0.3527831\ttotal: 15s\tremaining: 1.65s\n",
      "901:\tlearn: 0.3527247\ttotal: 15s\tremaining: 1.63s\n",
      "902:\tlearn: 0.3526278\ttotal: 15s\tremaining: 1.61s\n",
      "903:\tlearn: 0.3525682\ttotal: 15s\tremaining: 1.6s\n",
      "904:\tlearn: 0.3525055\ttotal: 15.1s\tremaining: 1.58s\n",
      "905:\tlearn: 0.3524628\ttotal: 15.1s\tremaining: 1.56s\n",
      "906:\tlearn: 0.3522920\ttotal: 15.1s\tremaining: 1.55s\n",
      "907:\tlearn: 0.3522325\ttotal: 15.1s\tremaining: 1.53s\n",
      "908:\tlearn: 0.3521587\ttotal: 15.2s\tremaining: 1.52s\n",
      "909:\tlearn: 0.3521175\ttotal: 15.2s\tremaining: 1.5s\n",
      "910:\tlearn: 0.3520537\ttotal: 15.2s\tremaining: 1.48s\n",
      "911:\tlearn: 0.3519795\ttotal: 15.2s\tremaining: 1.47s\n",
      "912:\tlearn: 0.3518618\ttotal: 15.2s\tremaining: 1.45s\n",
      "913:\tlearn: 0.3517740\ttotal: 15.2s\tremaining: 1.43s\n",
      "914:\tlearn: 0.3516647\ttotal: 15.2s\tremaining: 1.42s\n",
      "915:\tlearn: 0.3515563\ttotal: 15.2s\tremaining: 1.4s\n",
      "916:\tlearn: 0.3513115\ttotal: 15.3s\tremaining: 1.38s\n",
      "917:\tlearn: 0.3512049\ttotal: 15.3s\tremaining: 1.37s\n",
      "918:\tlearn: 0.3511314\ttotal: 15.3s\tremaining: 1.35s\n",
      "919:\tlearn: 0.3510539\ttotal: 15.3s\tremaining: 1.33s\n",
      "920:\tlearn: 0.3509801\ttotal: 15.3s\tremaining: 1.31s\n",
      "921:\tlearn: 0.3509148\ttotal: 15.4s\tremaining: 1.3s\n",
      "922:\tlearn: 0.3508297\ttotal: 15.4s\tremaining: 1.28s\n",
      "923:\tlearn: 0.3507898\ttotal: 15.4s\tremaining: 1.26s\n",
      "924:\tlearn: 0.3507359\ttotal: 15.4s\tremaining: 1.25s\n",
      "925:\tlearn: 0.3506569\ttotal: 15.4s\tremaining: 1.23s\n",
      "926:\tlearn: 0.3505915\ttotal: 15.4s\tremaining: 1.21s\n",
      "927:\tlearn: 0.3504919\ttotal: 15.5s\tremaining: 1.2s\n",
      "928:\tlearn: 0.3504378\ttotal: 15.5s\tremaining: 1.18s\n",
      "929:\tlearn: 0.3503704\ttotal: 15.5s\tremaining: 1.17s\n",
      "930:\tlearn: 0.3502849\ttotal: 15.5s\tremaining: 1.15s\n",
      "931:\tlearn: 0.3502064\ttotal: 15.5s\tremaining: 1.13s\n",
      "932:\tlearn: 0.3501260\ttotal: 15.5s\tremaining: 1.11s\n",
      "933:\tlearn: 0.3500737\ttotal: 15.5s\tremaining: 1.1s\n",
      "934:\tlearn: 0.3499879\ttotal: 15.6s\tremaining: 1.08s\n",
      "935:\tlearn: 0.3499425\ttotal: 15.6s\tremaining: 1.06s\n",
      "936:\tlearn: 0.3498391\ttotal: 15.6s\tremaining: 1.05s\n",
      "937:\tlearn: 0.3497710\ttotal: 15.6s\tremaining: 1.03s\n",
      "938:\tlearn: 0.3496615\ttotal: 15.6s\tremaining: 1.01s\n",
      "939:\tlearn: 0.3495716\ttotal: 15.6s\tremaining: 997ms\n",
      "940:\tlearn: 0.3495053\ttotal: 15.6s\tremaining: 981ms\n",
      "941:\tlearn: 0.3494425\ttotal: 15.7s\tremaining: 965ms\n",
      "942:\tlearn: 0.3493697\ttotal: 15.7s\tremaining: 948ms\n",
      "943:\tlearn: 0.3493122\ttotal: 15.7s\tremaining: 931ms\n",
      "944:\tlearn: 0.3491700\ttotal: 15.7s\tremaining: 914ms\n",
      "945:\tlearn: 0.3490447\ttotal: 15.7s\tremaining: 897ms\n",
      "946:\tlearn: 0.3489665\ttotal: 15.7s\tremaining: 880ms\n",
      "947:\tlearn: 0.3488043\ttotal: 15.8s\tremaining: 864ms\n",
      "948:\tlearn: 0.3487412\ttotal: 15.8s\tremaining: 847ms\n",
      "949:\tlearn: 0.3484316\ttotal: 15.8s\tremaining: 830ms\n",
      "950:\tlearn: 0.3483274\ttotal: 15.8s\tremaining: 814ms\n",
      "951:\tlearn: 0.3481118\ttotal: 15.8s\tremaining: 798ms\n",
      "952:\tlearn: 0.3480148\ttotal: 15.9s\tremaining: 782ms\n",
      "953:\tlearn: 0.3479379\ttotal: 15.9s\tremaining: 765ms\n",
      "954:\tlearn: 0.3478835\ttotal: 15.9s\tremaining: 748ms\n",
      "955:\tlearn: 0.3476384\ttotal: 15.9s\tremaining: 731ms\n",
      "956:\tlearn: 0.3475740\ttotal: 15.9s\tremaining: 715ms\n",
      "957:\tlearn: 0.3474749\ttotal: 15.9s\tremaining: 698ms\n",
      "958:\tlearn: 0.3473688\ttotal: 15.9s\tremaining: 681ms\n",
      "959:\tlearn: 0.3472220\ttotal: 15.9s\tremaining: 664ms\n",
      "960:\tlearn: 0.3471258\ttotal: 16s\tremaining: 648ms\n",
      "961:\tlearn: 0.3470760\ttotal: 16s\tremaining: 632ms\n",
      "962:\tlearn: 0.3470290\ttotal: 16s\tremaining: 616ms\n",
      "963:\tlearn: 0.3469499\ttotal: 16s\tremaining: 599ms\n",
      "964:\tlearn: 0.3468980\ttotal: 16.1s\tremaining: 582ms\n",
      "965:\tlearn: 0.3468498\ttotal: 16.1s\tremaining: 565ms\n",
      "966:\tlearn: 0.3467807\ttotal: 16.1s\tremaining: 549ms\n",
      "967:\tlearn: 0.3467074\ttotal: 16.1s\tremaining: 532ms\n",
      "968:\tlearn: 0.3465953\ttotal: 16.1s\tremaining: 515ms\n",
      "969:\tlearn: 0.3464858\ttotal: 16.1s\tremaining: 499ms\n",
      "970:\tlearn: 0.3464264\ttotal: 16.1s\tremaining: 482ms\n",
      "971:\tlearn: 0.3463532\ttotal: 16.1s\tremaining: 465ms\n",
      "972:\tlearn: 0.3462019\ttotal: 16.2s\tremaining: 449ms\n",
      "973:\tlearn: 0.3461152\ttotal: 16.2s\tremaining: 432ms\n",
      "974:\tlearn: 0.3460355\ttotal: 16.2s\tremaining: 416ms\n",
      "975:\tlearn: 0.3459537\ttotal: 16.2s\tremaining: 399ms\n",
      "976:\tlearn: 0.3457616\ttotal: 16.3s\tremaining: 383ms\n",
      "977:\tlearn: 0.3457171\ttotal: 16.3s\tremaining: 366ms\n",
      "978:\tlearn: 0.3456404\ttotal: 16.3s\tremaining: 349ms\n",
      "979:\tlearn: 0.3455124\ttotal: 16.3s\tremaining: 333ms\n",
      "980:\tlearn: 0.3454529\ttotal: 16.3s\tremaining: 316ms\n",
      "981:\tlearn: 0.3454183\ttotal: 16.3s\tremaining: 300ms\n"
     ]
    },
    {
     "name": "stdout",
     "output_type": "stream",
     "text": [
      "982:\tlearn: 0.3453589\ttotal: 16.4s\tremaining: 283ms\n",
      "983:\tlearn: 0.3451656\ttotal: 16.4s\tremaining: 267ms\n",
      "984:\tlearn: 0.3450928\ttotal: 16.4s\tremaining: 250ms\n",
      "985:\tlearn: 0.3450497\ttotal: 16.4s\tremaining: 233ms\n",
      "986:\tlearn: 0.3449998\ttotal: 16.5s\tremaining: 217ms\n",
      "987:\tlearn: 0.3449561\ttotal: 16.5s\tremaining: 200ms\n",
      "988:\tlearn: 0.3449107\ttotal: 16.5s\tremaining: 183ms\n",
      "989:\tlearn: 0.3448513\ttotal: 16.5s\tremaining: 167ms\n",
      "990:\tlearn: 0.3447971\ttotal: 16.5s\tremaining: 150ms\n",
      "991:\tlearn: 0.3447225\ttotal: 16.5s\tremaining: 133ms\n",
      "992:\tlearn: 0.3446385\ttotal: 16.6s\tremaining: 117ms\n",
      "993:\tlearn: 0.3445473\ttotal: 16.6s\tremaining: 100ms\n",
      "994:\tlearn: 0.3444902\ttotal: 16.7s\tremaining: 83.7ms\n",
      "995:\tlearn: 0.3444426\ttotal: 16.7s\tremaining: 67ms\n",
      "996:\tlearn: 0.3443811\ttotal: 16.7s\tremaining: 50.3ms\n",
      "997:\tlearn: 0.3442870\ttotal: 16.8s\tremaining: 33.6ms\n",
      "998:\tlearn: 0.3441151\ttotal: 16.8s\tremaining: 16.8ms\n",
      "999:\tlearn: 0.3440047\ttotal: 16.8s\tremaining: 0us\n"
     ]
    },
    {
     "data": {
      "text/plain": [
       "array([[3958,  899],\n",
       "       [ 717, 4014]], dtype=int64)"
      ]
     },
     "metadata": {},
     "output_type": "display_data"
    },
    {
     "name": "stdout",
     "output_type": "stream",
     "text": [
      "0.8314559866499791 0.8170160797883167 0.8484464172479391 0.8324346744089588\n"
     ]
    }
   ],
   "source": [
    "model4 = CatBoostClassifier().fit(X_train_scaled,y_train)\n",
    "y_pred4 = model4.predict(X_test_scaled)\n",
    "\n",
    "conf4 = confusion_matrix(y_test,y_pred4)\n",
    "display(conf4)\n",
    "\n",
    "acc4 = accuracy_score(y_test,y_pred4)\n",
    "rec4 = recall_score(y_test,y_pred4)\n",
    "pr4 = precision_score(y_test,y_pred4)\n",
    "f14 = f1_score(y_test,y_pred4)\n",
    "\n",
    "print(acc4,pr4,rec4,f14)"
   ]
  },
  {
   "cell_type": "markdown",
   "metadata": {
    "hidden": true
   },
   "source": [
    "### ADA Boost"
   ]
  },
  {
   "cell_type": "code",
   "execution_count": 56,
   "metadata": {
    "hidden": true
   },
   "outputs": [
    {
     "data": {
      "text/plain": [
       "array([[3690, 1167],\n",
       "       [1196, 3535]], dtype=int64)"
      ]
     },
     "metadata": {},
     "output_type": "display_data"
    },
    {
     "name": "stdout",
     "output_type": "stream",
     "text": [
      "0.754 0.752 0.747 0.749\n"
     ]
    }
   ],
   "source": [
    "model5 = AdaBoostClassifier().fit(X_train_scaled,y_train)\n",
    "y_pred5 = model5.predict(X_test_scaled)\n",
    "\n",
    "conf5 = confusion_matrix(y_test,y_pred5)\n",
    "display(conf5)\n",
    "\n",
    "acc5=accuracy_score(y_test,y_pred5).round(3)\n",
    "rec5=recall_score(y_test,y_pred5).round(3)\n",
    "pr5=precision_score(y_test,y_pred5).round(3)\n",
    "f15=f1_score(y_test,y_pred5).round(3)\n",
    "print(acc5,pr5,rec5,f15)"
   ]
  },
  {
   "cell_type": "markdown",
   "metadata": {
    "hidden": true
   },
   "source": [
    "### Decision tree"
   ]
  },
  {
   "cell_type": "code",
   "execution_count": 57,
   "metadata": {
    "hidden": true
   },
   "outputs": [
    {
     "data": {
      "text/plain": [
       "array([[3608, 1249],\n",
       "       [1147, 3584]], dtype=int64)"
      ]
     },
     "metadata": {},
     "output_type": "display_data"
    },
    {
     "name": "stdout",
     "output_type": "stream",
     "text": [
      "0.75 0.742 0.758 0.749\n"
     ]
    }
   ],
   "source": [
    "model6 = DecisionTreeClassifier().fit(X_train,y_train)\n",
    "y_pred6 = model6.predict(X_test)\n",
    "\n",
    "conf6 = confusion_matrix(y_test,y_pred6)\n",
    "display(conf6)\n",
    "\n",
    "acc6=accuracy_score(y_test,y_pred6).round(3)\n",
    "rec6=recall_score(y_test,y_pred6).round(3)\n",
    "pr6=precision_score(y_test,y_pred6).round(3)\n",
    "f16=f1_score(y_test,y_pred6).round(3)\n",
    "print(acc6,pr6,rec6,f16)"
   ]
  },
  {
   "cell_type": "markdown",
   "metadata": {
    "hidden": true
   },
   "source": [
    "### Random forest"
   ]
  },
  {
   "cell_type": "code",
   "execution_count": 58,
   "metadata": {
    "hidden": true
   },
   "outputs": [
    {
     "data": {
      "text/plain": [
       "array([[3846, 1011],\n",
       "       [ 850, 3881]], dtype=int64)"
      ]
     },
     "metadata": {},
     "output_type": "display_data"
    },
    {
     "name": "stdout",
     "output_type": "stream",
     "text": [
      "0.806 0.793 0.82 0.807\n"
     ]
    }
   ],
   "source": [
    "model7 = RandomForestClassifier().fit(X_train,y_train)\n",
    "y_pred7 = model7.predict(X_test)\n",
    "\n",
    "conf7 = confusion_matrix(y_test,y_pred7)\n",
    "display(conf7)\n",
    "\n",
    "acc7=accuracy_score(y_test,y_pred7).round(3)\n",
    "rec7=recall_score(y_test,y_pred7).round(3)\n",
    "pr7=precision_score(y_test,y_pred7).round(3)\n",
    "f17=f1_score(y_test,y_pred7).round(3)\n",
    "print(acc7,pr7,rec7,f17)"
   ]
  },
  {
   "cell_type": "markdown",
   "metadata": {
    "hidden": true
   },
   "source": [
    "### Gaussian Naive Baies"
   ]
  },
  {
   "cell_type": "code",
   "execution_count": 62,
   "metadata": {
    "hidden": true
   },
   "outputs": [
    {
     "data": {
      "text/plain": [
       "array([[1206, 3651],\n",
       "       [ 333, 4398]], dtype=int64)"
      ]
     },
     "metadata": {},
     "output_type": "display_data"
    },
    {
     "name": "stdout",
     "output_type": "stream",
     "text": [
      "0.584 0.546 0.93 0.688\n"
     ]
    }
   ],
   "source": [
    "model8 = GaussianNB().fit(X_train,y_train)\n",
    "y_pred8=model8.predict(X_test)\n",
    "\n",
    "conf8 = confusion_matrix(y_test,y_pred8)\n",
    "display(conf8)\n",
    "\n",
    "acc8=accuracy_score(y_test,y_pred8).round(3)\n",
    "rec8=recall_score(y_test,y_pred8).round(3)\n",
    "pr8=precision_score(y_test,y_pred8).round(3)\n",
    "f18=f1_score(y_test,y_pred8).round(3)\n",
    "print(acc8,pr8,rec8,f18)"
   ]
  },
  {
   "cell_type": "markdown",
   "metadata": {
    "hidden": true
   },
   "source": [
    "### NuSVC"
   ]
  },
  {
   "cell_type": "code",
   "execution_count": 63,
   "metadata": {
    "hidden": true
   },
   "outputs": [
    {
     "data": {
      "text/plain": [
       "array([[2999, 1858],\n",
       "       [1570, 3161]], dtype=int64)"
      ]
     },
     "metadata": {},
     "output_type": "display_data"
    },
    {
     "name": "stdout",
     "output_type": "stream",
     "text": [
      "0.642 0.63 0.668 0.648\n"
     ]
    }
   ],
   "source": [
    "model9 = NuSVC(nu=0.1).fit(X_train_scaled,y_train)\n",
    "y_pred9 = model9.predict(X_test_scaled)\n",
    "\n",
    "conf9 = confusion_matrix(y_test,y_pred9)\n",
    "display(conf9)\n",
    "\n",
    "acc9=accuracy_score(y_test,y_pred9).round(3)\n",
    "rec9=recall_score(y_test,y_pred9).round(3)\n",
    "pr9=precision_score(y_test,y_pred9).round(3)\n",
    "f19=f1_score(y_test,y_pred9).round(3)\n",
    "print(acc9,pr9,rec9,f19)"
   ]
  },
  {
   "cell_type": "markdown",
   "metadata": {
    "hidden": true
   },
   "source": [
    "### SVC kernel"
   ]
  },
  {
   "cell_type": "code",
   "execution_count": 74,
   "metadata": {
    "hidden": true
   },
   "outputs": [
    {
     "data": {
      "text/plain": [
       "array([[3667, 1190],\n",
       "       [1201, 3530]], dtype=int64)"
      ]
     },
     "metadata": {},
     "output_type": "display_data"
    },
    {
     "name": "stdout",
     "output_type": "stream",
     "text": [
      "0.751 0.748 0.746 0.747\n"
     ]
    }
   ],
   "source": [
    "from sklearn.svm import SVC\n",
    "\n",
    "model10 = SVC(kernel = 'rbf', random_state = 0).fit(X_train_scaled, y_train)\n",
    "y_pred10 = model10.predict(X_test_scaled)\n",
    "\n",
    "conf10 = confusion_matrix(y_test,y_pred10)\n",
    "display(conf10)\n",
    "\n",
    "acc10=accuracy_score(y_test,y_pred10).round(3)\n",
    "rec10=recall_score(y_test,y_pred10).round(3)\n",
    "pr10=precision_score(y_test,y_pred10).round(3)\n",
    "f110=f1_score(y_test,y_pred10).round(3)\n",
    "print(acc10,pr10,rec10,f110)"
   ]
  },
  {
   "cell_type": "markdown",
   "metadata": {
    "heading_collapsed": true
   },
   "source": [
    "## Comparing models"
   ]
  },
  {
   "cell_type": "code",
   "execution_count": 81,
   "metadata": {
    "hidden": true
   },
   "outputs": [
    {
     "data": {
      "image/png": "[encoded data removed]",
      "text/plain": [
       "<Figure size 576x432 with 1 Axes>"
      ]
     },
     "metadata": {},
     "output_type": "display_data"
    }
   ],
   "source": [
    "from sklearn.metrics import auc, roc_auc_score, roc_curve\n",
    "\n",
    "model_roc1=roc_auc_score(y_test, y_pred1)\n",
    "model_roc2=roc_auc_score(y_test, y_pred2)\n",
    "model_roc3=roc_auc_score(y_test, y_pred3)\n",
    "model_roc4=roc_auc_score(y_test, y_pred4)\n",
    "model_roc5=roc_auc_score(y_test, y_pred5)\n",
    "model_roc6=roc_auc_score(y_test, y_pred6)\n",
    "model_roc7=roc_auc_score(y_test, y_pred7)\n",
    "model_roc8=roc_auc_score(y_test, y_pred8)\n",
    "model_roc9=roc_auc_score(y_test, y_pred9)\n",
    "model_roc10=roc_auc_score(y_test, y_pred10)\n",
    "\n",
    "\n",
    "\n",
    "fpr1,tpr1,thresholds1=roc_curve(y_test, model1.predict_proba(X_test)[:,1])\n",
    "fpr2,tpr2,thresholds1=roc_curve(y_test, model2.predict_proba(X_test)[:,1])\n",
    "#fpr3,tpr3,thresholds1=roc_curve(y_test, model3.predict_proba(X_test)[:,1])\n",
    "fpr4,tpr4,thresholds1=roc_curve(y_test, model4.predict_proba(X_test)[:,1])\n",
    "fpr5,tpr5,thresholds1=roc_curve(y_test, model5.predict_proba(X_test)[:,1])\n",
    "fpr6,tpr6,thresholds1=roc_curve(y_test, model6.predict_proba(X_test)[:,1])\n",
    "fpr7,tpr7,thresholds1=roc_curve(y_test, model7.predict_proba(X_test)[:,1])\n",
    "fpr8,tpr8,thresholds1=roc_curve(y_test, model8.predict_proba(X_test)[:,1])\n",
    "#fpr9,tpr9,thresholds1=roc_curve(y_test, model9.predict_proba(X_test)[:,1])\n",
    "#fpr10,tpr10,thresholds1=roc_curve(y_test, model10.predict_proba(X_test)[:,1])\n",
    "\n",
    "\n",
    "plt.figure(figsize=(8,6))\n",
    "plt.plot(fpr1,tpr1, label=f'Logistic Regr.')\n",
    "plt.plot(fpr2,tpr2, label=f'KNN')\n",
    "#plt.plot(fpr3,tpr3, label=f'XGBoost')\n",
    "plt.plot(fpr4,tpr4, label=f'CatBoost')\n",
    "plt.plot(fpr5,tpr5, label=f'ADABoost')\n",
    "plt.plot(fpr6,tpr6, label=f'Decision Tree')\n",
    "plt.plot(fpr7,tpr7, label=f'Random Forest')\n",
    "plt.plot(fpr8,tpr8, label=f'RGaussian')\n",
    "#plt.plot(fpr9,tpr9, label=f'NuSVC')\n",
    "#plt.plot(fpr10,tpr10, label=f'SVCkernel')\n",
    "\n",
    "plt.plot([0,1],[0,1])\n",
    "plt.legend()\n",
    "plt.title('ROC curve')\n",
    "plt.xlabel('False Positive Rate')\n",
    "plt.ylabel('True Positive Rate')\n",
    "plt.show()"
   ]
  },
  {
   "cell_type": "code",
   "execution_count": 85,
   "metadata": {
    "hidden": true
   },
   "outputs": [
    {
     "data": {
      "text/html": [
       "<div>\n",
       "<style scoped>\n",
       "    .dataframe tbody tr th:only-of-type {\n",
       "        vertical-align: middle;\n",
       "    }\n",
       "\n",
       "    .dataframe tbody tr th {\n",
       "        vertical-align: top;\n",
       "    }\n",
       "\n",
       "    .dataframe thead th {\n",
       "        text-align: right;\n",
       "    }\n",
       "</style>\n",
       "<table border=\"1\" class=\"dataframe\">\n",
       "  <thead>\n",
       "    <tr style=\"text-align: right;\">\n",
       "      <th></th>\n",
       "      <th>Model</th>\n",
       "      <th>ACC</th>\n",
       "      <th>REC</th>\n",
       "      <th>PR</th>\n",
       "      <th>F1</th>\n",
       "      <th>ROC</th>\n",
       "    </tr>\n",
       "  </thead>\n",
       "  <tbody>\n",
       "    <tr>\n",
       "      <th>3</th>\n",
       "      <td>CatBoost</td>\n",
       "      <td>0.831456</td>\n",
       "      <td>0.848446</td>\n",
       "      <td>0.817016</td>\n",
       "      <td>0.832435</td>\n",
       "      <td>0.831676</td>\n",
       "    </tr>\n",
       "    <tr>\n",
       "      <th>6</th>\n",
       "      <td>Random Forest</td>\n",
       "      <td>0.806000</td>\n",
       "      <td>0.820000</td>\n",
       "      <td>0.793000</td>\n",
       "      <td>0.807000</td>\n",
       "      <td>0.806090</td>\n",
       "    </tr>\n",
       "    <tr>\n",
       "      <th>2</th>\n",
       "      <td>XGBoost</td>\n",
       "      <td>0.771000</td>\n",
       "      <td>0.792000</td>\n",
       "      <td>0.755000</td>\n",
       "      <td>0.773000</td>\n",
       "      <td>0.770830</td>\n",
       "    </tr>\n",
       "    <tr>\n",
       "      <th>4</th>\n",
       "      <td>ADABoost</td>\n",
       "      <td>0.754000</td>\n",
       "      <td>0.747000</td>\n",
       "      <td>0.752000</td>\n",
       "      <td>0.749000</td>\n",
       "      <td>0.753464</td>\n",
       "    </tr>\n",
       "    <tr>\n",
       "      <th>9</th>\n",
       "      <td>SVCkernel</td>\n",
       "      <td>0.751000</td>\n",
       "      <td>0.746000</td>\n",
       "      <td>0.748000</td>\n",
       "      <td>0.747000</td>\n",
       "      <td>0.750568</td>\n",
       "    </tr>\n",
       "    <tr>\n",
       "      <th>5</th>\n",
       "      <td>Decision Tree</td>\n",
       "      <td>0.750000</td>\n",
       "      <td>0.758000</td>\n",
       "      <td>0.742000</td>\n",
       "      <td>0.749000</td>\n",
       "      <td>0.750201</td>\n",
       "    </tr>\n",
       "    <tr>\n",
       "      <th>0</th>\n",
       "      <td>Logistic Regression</td>\n",
       "      <td>0.737000</td>\n",
       "      <td>0.731000</td>\n",
       "      <td>0.734000</td>\n",
       "      <td>0.733000</td>\n",
       "      <td>0.736684</td>\n",
       "    </tr>\n",
       "    <tr>\n",
       "      <th>1</th>\n",
       "      <td>K-Nearest Neighbors</td>\n",
       "      <td>0.734000</td>\n",
       "      <td>0.857000</td>\n",
       "      <td>0.684000</td>\n",
       "      <td>0.761000</td>\n",
       "      <td>0.735839</td>\n",
       "    </tr>\n",
       "    <tr>\n",
       "      <th>8</th>\n",
       "      <td>NuSVC</td>\n",
       "      <td>0.642000</td>\n",
       "      <td>0.668000</td>\n",
       "      <td>0.630000</td>\n",
       "      <td>0.648000</td>\n",
       "      <td>0.642803</td>\n",
       "    </tr>\n",
       "    <tr>\n",
       "      <th>7</th>\n",
       "      <td>Gaussian</td>\n",
       "      <td>0.584000</td>\n",
       "      <td>0.930000</td>\n",
       "      <td>0.546000</td>\n",
       "      <td>0.688000</td>\n",
       "      <td>0.588957</td>\n",
       "    </tr>\n",
       "  </tbody>\n",
       "</table>\n",
       "</div>"
      ],
      "text/plain": [
       "                 Model       ACC       REC        PR        F1       ROC\n",
       "3             CatBoost  0.831456  0.848446  0.817016  0.832435  0.831676\n",
       "6        Random Forest  0.806000  0.820000  0.793000  0.807000  0.806090\n",
       "2              XGBoost  0.771000  0.792000  0.755000  0.773000  0.770830\n",
       "4             ADABoost  0.754000  0.747000  0.752000  0.749000  0.753464\n",
       "9            SVCkernel  0.751000  0.746000  0.748000  0.747000  0.750568\n",
       "5        Decision Tree  0.750000  0.758000  0.742000  0.749000  0.750201\n",
       "0  Logistic Regression  0.737000  0.731000  0.734000  0.733000  0.736684\n",
       "1  K-Nearest Neighbors  0.734000  0.857000  0.684000  0.761000  0.735839\n",
       "8                NuSVC  0.642000  0.668000  0.630000  0.648000  0.642803\n",
       "7             Gaussian  0.584000  0.930000  0.546000  0.688000  0.588957"
      ]
     },
     "execution_count": 85,
     "metadata": {},
     "output_type": "execute_result"
    }
   ],
   "source": [
    "models = [('Logistic Regression', acc1, rec1, pr1, f11, model_roc1),\n",
    "          ('K-Nearest Neighbors',acc2, rec2, pr2, f12, model_roc2),\n",
    "          ('XGBoost', acc3, rec3, pr3, f13, model_roc3),\n",
    "          ('CatBoost', acc4, rec4, pr4, f14, model_roc4),\n",
    "          ('ADABoost', acc5, rec5, pr5, f15, model_roc5),\n",
    "          ('Decision Tree', acc6, rec6, pr6, f16, model_roc6),\n",
    "          ('Random Forest', acc7, rec7, pr7, f17, model_roc7),\n",
    "          ('Gaussian', acc8, rec8, pr8, f18, model_roc8),\n",
    "          ('NuSVC', acc9, rec9, pr9, f19, model_roc9),\n",
    "          ('SVCkernel', acc10, rec10, pr10, f110, model_roc10)]\n",
    "           \n",
    "           \n",
    "           \n",
    "models_results = pd.DataFrame(data = models, columns=['Model', 'ACC', 'REC', 'PR', 'F1', 'ROC'])\n",
    "models_results.sort_values(['ACC'], ascending=False)\n"
   ]
  },
  {
   "cell_type": "code",
   "execution_count": null,
   "metadata": {
    "hidden": true
   },
   "outputs": [],
   "source": [
    "# Conclusions:\n",
    "\n",
    "# Cat Boost has the best parameters, however the ROC curve suggests otherwise (IDK why since ROC-AUC is 83%)\n",
    "# Random Forest seems to give the best overall results"
   ]
  },
  {
   "cell_type": "markdown",
   "metadata": {
    "heading_collapsed": true
   },
   "source": [
    "## Cross-validating chosen models "
   ]
  },
  {
   "cell_type": "code",
   "execution_count": 88,
   "metadata": {
    "hidden": true
   },
   "outputs": [
    {
     "name": "stdout",
     "output_type": "stream",
     "text": [
      "[0.7789666  0.76435282 0.76330898 0.75802662 0.76272514]\n",
      "0.77\n"
     ]
    }
   ],
   "source": [
    "from sklearn.model_selection import cross_val_score\n",
    "\n",
    "# create a new Random Forest model with cross validation\n",
    "model_cv = RandomForestClassifier()\n",
    "# train model with 5-fold cv\n",
    "cv_scores = cross_val_score(model_cv, X, y, cv=5)\n",
    "print(cv_scores)  #accuracy\n",
    "print(cv_scores.mean().round(2))"
   ]
  },
  {
   "cell_type": "code",
   "execution_count": 90,
   "metadata": {
    "hidden": true
   },
   "outputs": [
    {
     "name": "stdout",
     "output_type": "stream",
     "text": [
      "[0.78888309 0.78314196 0.77505219 0.78334638 0.78230227]\n",
      "0.78\n"
     ]
    }
   ],
   "source": [
    "# create a new XGBoost model with cross validation\n",
    "model_cv = XGBClassifier()\n",
    "# train model with 5-fold cv\n",
    "cv_scores = cross_val_score(model_cv, X, y, cv=5)\n",
    "print(cv_scores)  #accuracy\n",
    "print(cv_scores.mean().round(2))"
   ]
  },
  {
   "cell_type": "code",
   "execution_count": null,
   "metadata": {
    "hidden": true
   },
   "outputs": [],
   "source": [
    "# Conclussions\n",
    "\n",
    "# Our modelscoring worse with cross validation, its real (mean on 5 folds) accuracy is 77%\n",
    "# XGB has good scores, both models can be accepted for further analysis"
   ]
  },
  {
   "cell_type": "markdown",
   "metadata": {
    "heading_collapsed": true
   },
   "source": [
    "## Runing my model on new unseen data from separate file"
   ]
  },
  {
   "cell_type": "code",
   "execution_count": 97,
   "metadata": {
    "hidden": true
   },
   "outputs": [],
   "source": [
    "new_df = pd.read_csv('aug_test.csv')\n",
    "df = new_df.copy()\n",
    "\n",
    "df = df.drop(columns=['enrollee_id'])\n",
    "\n",
    "# checking data for missing values:\n",
    "\n",
    "nb_of_nan = df.isnull().sum().sort_values()\n",
    "percentage = df.isnull().sum()/df.isnull().count().sort_values()\n",
    "missing_data = pd.concat([nb_of_nan, percentage], axis=1, keys =[\"nb_of_nan\", 'percentage'])\n",
    "\n",
    "# replacing nans with mode\n",
    "\n",
    "for feature in missing_data.index:\n",
    "    df[feature] = df[feature].fillna(df[feature].mode()[0])\n",
    "\n",
    "df = df.drop(columns=['city'])\n",
    "# Columns to clean from text: experience, company_size, last_new_job\n",
    "\n",
    "#df.experience.value_counts()\n",
    "df.experience = df.experience.str.replace('>20','21')\n",
    "df.experience = df.experience.str.replace('<1','0')\n",
    "\n",
    "df.experience = df.experience.astype('int64')\n",
    "\n",
    "#df.company_size.value_counts()\n",
    "\n",
    "# I will encode company_size manually as it has ordinal valueas and I'm not sure how Label_Encoder we treat these strings (might not read the order the way I want it to)\n",
    "df.company_size = df.company_size.str.replace('<10', '1')\n",
    "df.company_size = df.company_size.str.replace('10/49', '2')\n",
    "df.company_size = df.company_size.str.replace('50-99', '3')\n",
    "df.company_size = df.company_size.str.replace('100-500', '4')\n",
    "df.company_size = df.company_size.str.replace('500-999', '5')\n",
    "df.company_size = df.company_size.str.replace('1000-4999', '6')\n",
    "df.company_size = df.company_size.str.replace('5000-9999', '7')\n",
    "df.company_size = df.company_size.str.replace('10000+', '8')\n",
    "df.company_size = df.company_size.str.strip('+') #why it kept this '+' after replacing, idk\n",
    "\n",
    "df.company_size = df.company_size.astype('int64')\n",
    "\n",
    "#data.last_new_job.value_counts()\n",
    "\n",
    "df.last_new_job = df.last_new_job.astype('str')\n",
    "df.last_new_job = df.last_new_job.str.replace('>4', '5')\n",
    "df.last_new_job = df.last_new_job.str.replace('never', '6')\n",
    "\n",
    "df.last_new_job = df.last_new_job.astype('int64')\n",
    "\n",
    "# The rest of cols I will encode with LabelEncoder and OneHotEncoder:\n",
    "from sklearn.preprocessing import LabelEncoder\n",
    "from sklearn.preprocessing import OneHotEncoder\n",
    "\n",
    "#columns for LabelEncoder (ordinal values)\n",
    "#col_list_1 = [enrolled_university, education_level]\n",
    "le = LabelEncoder()\n",
    "df['enrolled_university'] = le.fit_transform(df['enrolled_university'])\n",
    "df['education_level'] = le.fit_transform(df['education_level'])\n",
    "\n",
    "#columns for OneHotEncoder (non ordinal values, numerous values):\n",
    "#col_list_2 =[gender, relevent_experience, major_discipline, company_type]\n",
    "df = pd.get_dummies(df, columns=['gender', 'relevent_experience', 'major_discipline', 'company_type'], drop_first=True)\n",
    "\n"
   ]
  },
  {
   "cell_type": "code",
   "execution_count": null,
   "metadata": {
    "hidden": true
   },
   "outputs": [],
   "source": [
    "# predicting target for new data:\n",
    "\n",
    "y_pred_new = model7.predict(df)"
   ]
  },
  {
   "cell_type": "code",
   "execution_count": 111,
   "metadata": {
    "hidden": true
   },
   "outputs": [
    {
     "data": {
      "text/plain": [
       "0.0    1480\n",
       "1.0     649\n",
       "dtype: int64"
      ]
     },
     "execution_count": 111,
     "metadata": {},
     "output_type": "execute_result"
    }
   ],
   "source": [
    "pd.Series(y_pred_new).value_counts()"
   ]
  },
  {
   "cell_type": "code",
   "execution_count": 110,
   "metadata": {
    "hidden": true
   },
   "outputs": [
    {
     "data": {
      "text/html": [
       "<div>\n",
       "<style scoped>\n",
       "    .dataframe tbody tr th:only-of-type {\n",
       "        vertical-align: middle;\n",
       "    }\n",
       "\n",
       "    .dataframe tbody tr th {\n",
       "        vertical-align: top;\n",
       "    }\n",
       "\n",
       "    .dataframe thead th {\n",
       "        text-align: right;\n",
       "    }\n",
       "</style>\n",
       "<table border=\"1\" class=\"dataframe\">\n",
       "  <thead>\n",
       "    <tr style=\"text-align: right;\">\n",
       "      <th></th>\n",
       "      <th>enrolee_id</th>\n",
       "      <th>target</th>\n",
       "    </tr>\n",
       "  </thead>\n",
       "  <tbody>\n",
       "    <tr>\n",
       "      <th>0</th>\n",
       "      <td>32403</td>\n",
       "      <td>0.0</td>\n",
       "    </tr>\n",
       "    <tr>\n",
       "      <th>1</th>\n",
       "      <td>9858</td>\n",
       "      <td>0.0</td>\n",
       "    </tr>\n",
       "    <tr>\n",
       "      <th>2</th>\n",
       "      <td>31806</td>\n",
       "      <td>0.0</td>\n",
       "    </tr>\n",
       "    <tr>\n",
       "      <th>3</th>\n",
       "      <td>27385</td>\n",
       "      <td>0.0</td>\n",
       "    </tr>\n",
       "    <tr>\n",
       "      <th>4</th>\n",
       "      <td>27724</td>\n",
       "      <td>0.0</td>\n",
       "    </tr>\n",
       "    <tr>\n",
       "      <th>...</th>\n",
       "      <td>...</td>\n",
       "      <td>...</td>\n",
       "    </tr>\n",
       "    <tr>\n",
       "      <th>2124</th>\n",
       "      <td>1289</td>\n",
       "      <td>0.0</td>\n",
       "    </tr>\n",
       "    <tr>\n",
       "      <th>2125</th>\n",
       "      <td>195</td>\n",
       "      <td>0.0</td>\n",
       "    </tr>\n",
       "    <tr>\n",
       "      <th>2126</th>\n",
       "      <td>31762</td>\n",
       "      <td>0.0</td>\n",
       "    </tr>\n",
       "    <tr>\n",
       "      <th>2127</th>\n",
       "      <td>7873</td>\n",
       "      <td>0.0</td>\n",
       "    </tr>\n",
       "    <tr>\n",
       "      <th>2128</th>\n",
       "      <td>12215</td>\n",
       "      <td>0.0</td>\n",
       "    </tr>\n",
       "  </tbody>\n",
       "</table>\n",
       "<p>2129 rows × 2 columns</p>\n",
       "</div>"
      ],
      "text/plain": [
       "      enrolee_id  target\n",
       "0          32403     0.0\n",
       "1           9858     0.0\n",
       "2          31806     0.0\n",
       "3          27385     0.0\n",
       "4          27724     0.0\n",
       "...          ...     ...\n",
       "2124        1289     0.0\n",
       "2125         195     0.0\n",
       "2126       31762     0.0\n",
       "2127        7873     0.0\n",
       "2128       12215     0.0\n",
       "\n",
       "[2129 rows x 2 columns]"
      ]
     },
     "execution_count": 110,
     "metadata": {},
     "output_type": "execute_result"
    }
   ],
   "source": [
    "X = new_df.iloc[:, 0].values\n",
    "result = pd.concat([pd.Series(X), pd.Series(y_pred_new)], axis=1)\n",
    "result.columns = ['enrolee_id', 'target']\n",
    "result"
   ]
  },
  {
   "cell_type": "code",
   "execution_count": 114,
   "metadata": {
    "hidden": true
   },
   "outputs": [],
   "source": [
    "data.to_csv(\"HR_analysis_result.csv\", index=False)"
   ]
  },
  {
   "cell_type": "markdown",
   "metadata": {},
   "source": [
    "## Possible improvements"
   ]
  },
  {
   "cell_type": "code",
   "execution_count": null,
   "metadata": {},
   "outputs": [],
   "source": [
    "\"\"\"\n",
    "1.Feature selection and check if it increase performance of models\n",
    "2. PCA\n",
    "3.Feature selection + packing features into clusters\n",
    "\n",
    "\"\"\""
   ]
  }
 ],
 "metadata": {
  "kernelspec": {
   "display_name": "Python 3",
   "language": "python",
   "name": "python3"
  },
  "language_info": {
   "codemirror_mode": {
    "name": "ipython",
    "version": 3
   },
   "file_extension": ".py",
   "mimetype": "text/x-python",
   "name": "python",
   "nbconvert_exporter": "python",
   "pygments_lexer": "ipython3",
   "version": "3.7.6"
  },
  "toc": {
   "base_numbering": 1,
   "nav_menu": {},
   "number_sections": true,
   "sideBar": true,
   "skip_h1_title": false,
   "title_cell": "Table of Contents",
   "title_sidebar": "Contents",
   "toc_cell": false,
   "toc_position": {},
   "toc_section_display": true,
   "toc_window_display": false
  }
 },
 "nbformat": 4,
 "nbformat_minor": 4
}
